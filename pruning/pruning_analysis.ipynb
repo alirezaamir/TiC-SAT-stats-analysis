{
 "cells": [
  {
   "cell_type": "code",
   "execution_count": 1,
   "outputs": [],
   "source": [
    "import torch\n",
    "import os\n",
    "import numpy as np"
   ],
   "metadata": {
    "collapsed": false,
    "pycharm": {
     "name": "#%%\n"
    }
   }
  },
  {
   "cell_type": "code",
   "execution_count": 2,
   "outputs": [
    {
     "name": "stdout",
     "output_type": "stream",
     "text": [
      "SavedModules_decoder.decoders.0.src_attn.linear_v.txt\n",
      "SavedModules_decoder.decoders.1.src_attn.linear_k.txt\n",
      "SavedModules_decoder.decoders.1.src_attn.linear_out.txt\n",
      "SavedModules_encoder.encoders.11.self_attn.linear_q.txt\n",
      "SavedModules_encoder.encoders.4.self_attn.linear_k.txt\n",
      "SavedModules_decoder.decoders.1.self_attn.linear_k.txt\n",
      "SavedModules_encoder.encoders.6.feed_forward.w_1.txt\n",
      "SavedModules_decoder.decoders.0.self_attn.linear_out.txt\n",
      "SavedModules_encoder.encoders.5.feed_forward.w_2.txt\n",
      "SavedModules_decoder.decoders.3.src_attn.linear_q.txt\n",
      "SavedModules_encoder.encoders.9.self_attn.linear_q.txt\n",
      "SavedModules_decoder.decoders.4.src_attn.linear_q.txt\n",
      "SavedModules_encoder.encoders.7.self_attn.linear_q.txt\n",
      "SavedModules_encoder.encoders.11.feed_forward.w_1.txt\n",
      "SavedModules_decoder.decoders.0.self_attn.linear_q.txt\n",
      "SavedModules_encoder.encoders.9.self_attn.linear_v.txt\n",
      "SavedModules_decoder.decoders.4.feed_forward.w_1.txt\n",
      "SavedModules_decoder.decoders.5.self_attn.linear_k.txt\n",
      "SavedModules_encoder.encoders.5.self_attn.linear_v.txt\n",
      "SavedModules_decoder.decoders.3.self_attn.linear_v.txt\n",
      "SavedModules_encoder.encoders.11.self_attn.linear_k.txt\n",
      "SavedModules_encoder.encoders.5.self_attn.linear_q.txt\n",
      "SavedModules_decoder.decoders.4.self_attn.linear_out.txt\n",
      "SavedModules_decoder.decoders.5.src_attn.linear_q.txt\n",
      "SavedModules_decoder.decoders.5.src_attn.linear_out.txt\n",
      "SavedModules_encoder.encoders.5.self_attn.linear_k.txt\n",
      "SavedModules_decoder.decoders.5.src_attn.linear_v.txt\n",
      "SavedModules_decoder.decoders.3.self_attn.linear_k.txt\n",
      "SavedModules_decoder.decoders.5.feed_forward.w_1.txt\n",
      "SavedModules_decoder.decoders.5.feed_forward.w_2.txt\n",
      "SavedModules_encoder.encoders.6.self_attn.linear_v.txt\n",
      "SavedModules_encoder.encoders.1.feed_forward.w_2.txt\n",
      "SavedModules_decoder.decoders.2.src_attn.linear_out.txt\n",
      "SavedModules_decoder.decoders.5.src_attn.linear_k.txt\n",
      "SavedModules_decoder.decoders.0.src_attn.linear_q.txt\n",
      "SavedModules_encoder.encoders.11.feed_forward.w_2.txt\n",
      "SavedModules_decoder.decoders.5.self_attn.linear_v.txt\n",
      "SavedModules_decoder.decoders.4.feed_forward.w_2.txt\n",
      "SavedModules_encoder.encoders.6.self_attn.linear_k.txt\n",
      "SavedModules_encoder.encoders.2.self_attn.linear_v.txt\n",
      "SavedModules_encoder.encoders.6.self_attn.linear_q.txt\n",
      "SavedModules_encoder.encoders.11.self_attn.linear_out.txt\n",
      "SavedModules_decoder.decoders.0.feed_forward.w_1.txt\n",
      "SavedModules_encoder.encoders.10.feed_forward.w_2.txt\n",
      "SavedModules_encoder.encoders.10.self_attn.linear_v.txt\n",
      "SavedModules_decoder.decoders.2.feed_forward.w_1.txt\n",
      "SavedModules_encoder.encoders.5.feed_forward.w_1.txt\n",
      "SavedModules_encoder.encoders.7.self_attn.linear_k.txt\n",
      "SavedModules_decoder.decoders.4.self_attn.linear_q.txt\n",
      "SavedModules_encoder.encoders.4.feed_forward.w_2.txt\n",
      "SavedModules_encoder.encoders.3.self_attn.linear_out.txt\n",
      "SavedModules_encoder.encoders.3.self_attn.linear_k.txt\n",
      "SavedModules_decoder.decoders.2.self_attn.linear_q.txt\n",
      "SavedModules_decoder.decoders.2.self_attn.linear_v.txt\n",
      "SavedModules_encoder.encoders.8.self_attn.linear_q.txt\n",
      "SavedModules_decoder.decoders.4.src_attn.linear_v.txt\n",
      "SavedModules_decoder.decoders.5.self_attn.linear_out.txt\n",
      "SavedModules_encoder.encoders.0.feed_forward.w_2.txt\n",
      "SavedModules_decoder.decoders.3.self_attn.linear_q.txt\n",
      "SavedModules_encoder.encoders.9.feed_forward.w_1.txt\n",
      "SavedModules_encoder.encoders.0.self_attn.linear_out.txt\n",
      "SavedModules_encoder.encoders.2.self_attn.linear_q.txt\n",
      "SavedModules_encoder.encoders.6.feed_forward.w_2.txt\n",
      "SavedModules_decoder.decoders.0.src_attn.linear_out.txt\n",
      "SavedModules_decoder.decoders.3.src_attn.linear_v.txt\n",
      "SavedModules_encoder.encoders.1.self_attn.linear_k.txt\n",
      "SavedModules_decoder.decoders.2.src_attn.linear_k.txt\n",
      "SavedModules_encoder.encoders.10.self_attn.linear_k.txt\n",
      "SavedModules_decoder.decoders.3.feed_forward.w_1.txt\n",
      "SavedModules_decoder.decoders.1.self_attn.linear_v.txt\n",
      "SavedModules_decoder.decoders.1.self_attn.linear_q.txt\n",
      "SavedModules_decoder.output_layer.txt\n",
      "SavedModules_decoder.decoders.1.feed_forward.w_1.txt\n",
      "SavedModules_encoder.encoders.5.self_attn.linear_out.txt\n",
      "SavedModules_decoder.decoders.0.self_attn.linear_v.txt\n",
      "SavedModules_decoder.decoders.2.src_attn.linear_v.txt\n",
      "SavedModules_encoder.encoders.9.self_attn.linear_out.txt\n",
      "SavedModules_encoder.encoders.9.feed_forward.w_2.txt\n",
      "SavedModules_encoder.encoders.3.self_attn.linear_v.txt\n",
      "SavedModules_encoder.encoders.0.feed_forward.w_1.txt\n",
      "SavedModules_decoder.decoders.4.self_attn.linear_v.txt\n",
      "SavedModules_encoder.encoders.10.self_attn.linear_out.txt\n",
      "SavedModules_encoder.encoders.2.self_attn.linear_out.txt\n",
      "SavedModules_decoder.decoders.1.src_attn.linear_q.txt\n",
      "SavedModules_decoder.decoders.4.self_attn.linear_k.txt\n",
      "SavedModules_encoder.encoders.2.feed_forward.w_1.txt\n",
      "SavedModules_encoder.encoders.8.feed_forward.w_1.txt\n",
      "SavedModules_encoder.encoders.0.self_attn.linear_v.txt\n",
      "SavedModules_encoder.encoders.10.feed_forward.w_1.txt\n",
      "SavedModules_encoder.encoders.11.self_attn.linear_v.txt\n",
      "SavedModules_encoder.encoders.1.self_attn.linear_out.txt\n",
      "SavedModules_encoder.encoders.1.self_attn.linear_q.txt\n",
      "SavedModules_encoder.encoders.7.self_attn.linear_v.txt\n",
      "SavedModules_decoder.decoders.1.feed_forward.w_2.txt\n",
      "SavedModules_decoder.decoders.3.src_attn.linear_out.txt\n",
      "SavedModules_encoder.encoders.8.self_attn.linear_out.txt\n",
      "SavedModules_encoder.encoders.7.self_attn.linear_out.txt\n",
      "SavedModules_encoder.encoders.0.self_attn.linear_q.txt\n",
      "SavedModules_encoder.encoders.4.feed_forward.w_1.txt\n",
      "SavedModules_decoder.decoders.2.self_attn.linear_k.txt\n",
      "SavedModules_encoder.encoders.4.self_attn.linear_v.txt\n",
      "SavedModules_encoder.encoders.0.self_attn.linear_k.txt\n",
      "SavedModules_encoder.encoders.8.self_attn.linear_k.txt\n",
      "SavedModules_encoder.encoders.4.self_attn.linear_q.txt\n",
      "SavedModules_encoder.encoders.3.self_attn.linear_q.txt\n",
      "SavedModules_encoder.encoders.10.self_attn.linear_q.txt\n",
      "SavedModules_encoder.encoders.1.feed_forward.w_1.txt\n",
      "SavedModules_encoder.encoders.2.feed_forward.w_2.txt\n",
      "SavedModules_decoder.decoders.3.feed_forward.w_2.txt\n",
      "SavedModules_decoder.decoders.0.src_attn.linear_k.txt\n",
      "SavedModules_decoder.decoders.0.feed_forward.w_2.txt\n",
      "SavedModules_decoder.decoders.2.feed_forward.w_2.txt\n",
      "SavedModules_encoder.encoders.9.self_attn.linear_k.txt\n",
      "SavedModules_encoder.encoders.3.feed_forward.w_2.txt\n",
      "SavedModules_encoder.encoders.4.self_attn.linear_out.txt\n",
      "SavedModules_decoder.decoders.1.self_attn.linear_out.txt\n",
      "SavedModules_decoder.decoders.3.src_attn.linear_k.txt\n",
      "SavedModules_decoder.decoders.2.self_attn.linear_out.txt\n",
      "SavedModules_decoder.decoders.5.self_attn.linear_q.txt\n",
      "SavedModules_encoder.encoders.3.feed_forward.w_1.txt\n",
      "SavedModules_encoder.encoders.7.feed_forward.w_2.txt\n",
      "SavedModules_encoder.encoders.6.self_attn.linear_out.txt\n",
      "SavedModules_decoder.decoders.4.src_attn.linear_out.txt\n",
      "SavedModules_decoder.decoders.4.src_attn.linear_k.txt\n",
      "SavedModules_encoder.encoders.2.self_attn.linear_k.txt\n",
      "SavedModules_encoder.encoders.8.feed_forward.w_2.txt\n",
      "SavedModules_decoder.decoders.2.src_attn.linear_q.txt\n",
      "SavedModules_decoder.decoders.0.self_attn.linear_k.txt\n",
      "SavedModules_decoder.decoders.3.self_attn.linear_out.txt\n",
      "SavedModules_encoder.encoders.8.self_attn.linear_v.txt\n",
      "SavedModules_decoder.decoders.1.src_attn.linear_v.txt\n",
      "SavedModules_encoder.encoders.1.self_attn.linear_v.txt\n",
      "SavedModules_encoder.encoders.7.feed_forward.w_1.txt\n"
     ]
    }
   ],
   "source": [
    "# Specify the directory\n",
    "directory = 'Saved_Modules'\n",
    "\n",
    "# List all files in the directory\n",
    "files = [f for f in os.listdir(directory) if os.path.isfile(os.path.join(directory, f))]\n",
    "\n",
    "# For each file\n",
    "for filename in files:\n",
    "    print(filename)\n",
    "    # Check if the file is a text file\n",
    "    if filename.endswith('.txt'):\n",
    "        # Construct the full file path\n",
    "        file_path = os.path.join(directory, filename)\n",
    "        # Load the data from the text file into a numpy array\n",
    "        data = np.loadtxt(file_path)\n"
   ],
   "metadata": {
    "collapsed": false,
    "pycharm": {
     "name": "#%%\n"
    }
   }
  },
  {
   "cell_type": "code",
   "execution_count": 10,
   "outputs": [],
   "source": [
    "def count_zero_blocks(matrix, block_size):\n",
    "    N1 = matrix.shape[0]\n",
    "    N2 = matrix.shape[1]\n",
    "    count = 0\n",
    "    sparse_zero = []\n",
    "    for i in range(0, N1 - block_size + 1, block_size):\n",
    "        for j in range(0, N2 - block_size + 1, block_size):\n",
    "            if np.all(matrix[i:i+block_size, j:j+block_size] == 0):\n",
    "                count += 1\n",
    "            else:\n",
    "                sparse_zero.append(block_size * block_size -  np.count_nonzero(matrix[i:i+block_size, j:j+block_size]))\n",
    "    return count, sparse_zero"
   ],
   "metadata": {
    "collapsed": false,
    "pycharm": {
     "name": "#%%\n"
    }
   }
  },
  {
   "cell_type": "code",
   "execution_count": 18,
   "outputs": [
    {
     "name": "stdout",
     "output_type": "stream",
     "text": [
      "SavedModules_encoder.encoders.5.feed_forward.w_2.txt\n",
      "Pruned blocks 26596  : 0.20\n",
      "Fine grain 0.32\n",
      "\n",
      "SavedModules_decoder.decoders.5.feed_forward.w_2.txt\n",
      "Pruned blocks 25491  : 0.19\n",
      "Fine grain 0.32\n",
      "\n",
      "SavedModules_encoder.encoders.1.feed_forward.w_2.txt\n",
      "Pruned blocks 34134  : 0.26\n",
      "Fine grain 0.29\n",
      "\n",
      "SavedModules_encoder.encoders.11.feed_forward.w_2.txt\n",
      "Pruned blocks 26052  : 0.20\n",
      "Fine grain 0.32\n",
      "\n",
      "SavedModules_decoder.decoders.4.feed_forward.w_2.txt\n",
      "Pruned blocks 24869  : 0.19\n",
      "Fine grain 0.32\n",
      "\n",
      "SavedModules_encoder.encoders.10.feed_forward.w_2.txt\n",
      "Pruned blocks 26329  : 0.20\n",
      "Fine grain 0.32\n",
      "\n",
      "SavedModules_encoder.encoders.4.feed_forward.w_2.txt\n",
      "Pruned blocks 28029  : 0.21\n",
      "Fine grain 0.31\n",
      "\n",
      "SavedModules_encoder.encoders.0.feed_forward.w_2.txt\n",
      "Pruned blocks 35022  : 0.27\n",
      "Fine grain 0.29\n",
      "\n",
      "SavedModules_encoder.encoders.6.feed_forward.w_2.txt\n",
      "Pruned blocks 26379  : 0.20\n",
      "Fine grain 0.32\n",
      "\n",
      "SavedModules_encoder.encoders.9.feed_forward.w_2.txt\n",
      "Pruned blocks 26076  : 0.20\n",
      "Fine grain 0.32\n",
      "\n",
      "SavedModules_decoder.decoders.1.feed_forward.w_2.txt\n",
      "Pruned blocks 26264  : 0.20\n",
      "Fine grain 0.32\n",
      "\n",
      "SavedModules_encoder.encoders.2.feed_forward.w_2.txt\n",
      "Pruned blocks 32675  : 0.25\n",
      "Fine grain 0.29\n",
      "\n",
      "SavedModules_decoder.decoders.3.feed_forward.w_2.txt\n",
      "Pruned blocks 24933  : 0.19\n",
      "Fine grain 0.32\n",
      "\n",
      "SavedModules_decoder.decoders.0.feed_forward.w_2.txt\n",
      "Pruned blocks 26104  : 0.20\n",
      "Fine grain 0.32\n",
      "\n",
      "SavedModules_decoder.decoders.2.feed_forward.w_2.txt\n",
      "Pruned blocks 25294  : 0.19\n",
      "Fine grain 0.32\n",
      "\n",
      "SavedModules_encoder.encoders.3.feed_forward.w_2.txt\n",
      "Pruned blocks 29017  : 0.22\n",
      "Fine grain 0.31\n",
      "\n",
      "SavedModules_encoder.encoders.7.feed_forward.w_2.txt\n",
      "Pruned blocks 26107  : 0.20\n",
      "Fine grain 0.32\n",
      "\n",
      "SavedModules_encoder.encoders.8.feed_forward.w_2.txt\n",
      "Pruned blocks 25946  : 0.20\n",
      "Fine grain 0.32\n",
      "\n"
     ]
    }
   ],
   "source": [
    "block = 2\n",
    "coarse_grain = []\n",
    "fine_grain = []\n",
    "for filename in files:\n",
    "    if filename.endswith('.txt'):\n",
    "        # Construct the full file path\n",
    "        file_path = os.path.join(directory, filename)\n",
    "        # Load the data from the text file into a numpy array\n",
    "        data = np.loadtxt(file_path)\n",
    "        # print((data.shape[0] / block),  (data.shape[1] / block))\n",
    "        pruned_block, zeros_count = count_zero_blocks(data, block)\n",
    "        block_pruning_ratio = pruned_block / ((data.shape[0] / block) * (data.shape[1] / block))\n",
    "        finegrained_sparsity = np.mean(zeros_count)/ (block*block)\n",
    "        if block_pruning_ratio > 0.01 :\n",
    "            print(filename)\n",
    "            print(\"Pruned blocks\", pruned_block, \" : {:.2f}\".format(block_pruning_ratio))\n",
    "            print(\"Fine grain {:.2f}\".format(finegrained_sparsity))\n",
    "            print()\n",
    "            coarse_grain.append(block_pruning_ratio)\n",
    "            fine_grain.append(finegrained_sparsity)\n"
   ],
   "metadata": {
    "collapsed": false,
    "pycharm": {
     "name": "#%%\n"
    }
   }
  },
  {
   "cell_type": "code",
   "execution_count": 26,
   "outputs": [
    {
     "data": {
      "text/plain": "<Figure size 432x288 with 1 Axes>",
      "image/png": "[encoded data removed]"
     },
     "metadata": {
      "needs_background": "light"
     },
     "output_type": "display_data"
    },
    {
     "data": {
      "text/plain": "<Figure size 432x288 with 1 Axes>",
      "image/png": "[encoded data removed]"
     },
     "metadata": {
      "needs_background": "light"
     },
     "output_type": "display_data"
    }
   ],
   "source": [
    "import matplotlib.pyplot as plt\n",
    "# Plotting the coarse grain data\n",
    "plt.boxplot(np.multiply(coarse_grain, 100))\n",
    "plt.title(\"Block level Sparsity\")  # Add a title for the plot\n",
    "plt.xlabel(\"\")      # Add a label for the x-axis\n",
    "plt.ylabel(\"%\")      # Add a label for the y-axis\n",
    "plt.xticks([])\n",
    "plt.savefig('../output/block_level2x2.png', dpi=300)                     # Show the first plot\n",
    "\n",
    "# Plotting the fine grain data in a new figure\n",
    "plt.figure()\n",
    "plt.boxplot(np.multiply(fine_grain, 100))\n",
    "plt.title(\"Fine Grained Sparsity\")    # Add a title for the plot\n",
    "plt.xlabel(\"\")      # Add a label for the x-axis\n",
    "plt.ylabel(\"%\")      # Add a label for the y-axis\n",
    "plt.xticks([])\n",
    "plt.savefig('../output/fine_level2x2.png', dpi=300)                      # Show the second plot\n"
   ],
   "metadata": {
    "collapsed": false,
    "pycharm": {
     "name": "#%%\n"
    }
   }
  },
  {
   "cell_type": "code",
   "execution_count": 23,
   "outputs": [],
   "source": [
    "def complement(i):\n",
    "    fractions = 5\n",
    "    i_quant = int(i*(2**fractions))\n",
    "    if i_quant > (2**7 - 1):\n",
    "        i_quant = (2**7 -1 )\n",
    "    if i_quant < (-(2**7)):\n",
    "        i_quant = -(2**7)\n",
    "    if i_quant < 0:\n",
    "        i_quant += (2**8)\n",
    "    return i_quant\n",
    "\n",
    "\n",
    "def get_hidden_flag(matrix, hidden_flags, block_size):\n",
    "    N1 = matrix.shape[0]\n",
    "    N2 = matrix.shape[1]\n",
    "    for i in range(0, N1 - block_size + 1, block_size):\n",
    "        for j in range(0, N2 - block_size + 1, block_size):\n",
    "            a0 = complement(matrix[i,j]) << 24\n",
    "            a1 = complement(matrix[i,j+1]) << 16\n",
    "            a2 = complement(matrix[i,j+2]) << 8\n",
    "            a3 = complement(matrix[i,j+3])\n",
    "            flag = a0 + a1 + a2 + a3\n",
    "            hidden_flags[flag] = True\n"
   ],
   "metadata": {
    "collapsed": false,
    "pycharm": {
     "name": "#%%\n"
    }
   }
  },
  {
   "cell_type": "code",
   "execution_count": 24,
   "outputs": [
    {
     "name": "stdout",
     "output_type": "stream",
     "text": [
      "1023\n",
      "2042\n",
      "3057\n",
      "4063\n",
      "5080\n",
      "6094\n",
      "14249\n",
      "15261\n",
      "21106\n",
      "22109\n",
      "23105\n",
      "24114\n",
      "25117\n",
      "33238\n",
      "34223\n",
      "35241\n",
      "43354\n",
      "44359\n",
      "45368\n",
      "46387\n",
      "47348\n",
      "48347\n",
      "49362\n",
      "50367\n",
      "51383\n",
      "52369\n",
      "53383\n",
      "54381\n",
      "62432\n",
      "67551\n",
      "68556\n",
      "73120\n",
      "74076\n",
      "75060\n",
      "76016\n",
      "80973\n",
      "81982\n",
      "86493\n",
      "87483\n",
      "88458\n",
      "89431\n",
      "90448\n",
      "98417\n",
      "102985\n",
      "103997\n",
      "112001\n",
      "119905\n",
      "120867\n",
      "121828\n",
      "125851\n",
      "126827\n",
      "127781\n",
      "128745\n",
      "129741\n",
      "130698\n",
      "131691\n",
      "132701\n",
      "136274\n",
      "137240\n",
      "145143\n",
      "146069\n",
      "147016\n",
      "150847\n",
      "151695\n",
      "152653\n",
      "153630\n",
      "154583\n",
      "155500\n",
      "163379\n",
      "164377\n",
      "165313\n",
      "168982\n",
      "176794\n",
      "177768\n",
      "178736\n",
      "179660\n",
      "180649\n",
      "184563\n",
      "185525\n",
      "192304\n",
      "193289\n",
      "194292\n",
      "195210\n",
      "196148\n",
      "197085\n",
      "203537\n",
      "211325\n",
      "212211\n",
      "220009\n",
      "221021\n",
      "221945\n",
      "222883\n",
      "223860\n",
      "227348\n",
      "228273\n",
      "229257\n",
      "230236\n",
      "231208\n",
      "238508\n",
      "239451\n",
      "240416\n",
      "241360\n",
      "242255\n",
      "243164\n",
      "244075\n",
      "244929\n",
      "251208\n",
      "254592\n",
      "258255\n",
      "259101\n",
      "262502\n",
      "265942\n",
      "266820\n",
      "270070\n",
      "271029\n",
      "271983\n",
      "272895\n",
      "273848\n",
      "274762\n",
      "281815\n",
      "285353\n",
      "286327\n",
      "287253\n",
      "288165\n",
      "289074\n",
      "292388\n",
      "293268\n",
      "294106\n",
      "295068\n",
      "296036\n",
      "296860\n",
      "297776\n",
      "305417\n"
     ]
    }
   ],
   "source": [
    "hidden_flag_map = {}\n",
    "for filename in files:\n",
    "    if filename.endswith('.txt'):\n",
    "        # Construct the full file path\n",
    "        file_path = os.path.join(directory, filename)\n",
    "        # Load the data from the text file into a numpy array\n",
    "        data = np.loadtxt(file_path)\n",
    "        get_hidden_flag(data,hidden_flag_map, block_size=8)\n",
    "        print(len(hidden_flag_map))"
   ],
   "metadata": {
    "collapsed": false,
    "pycharm": {
     "name": "#%%\n"
    }
   }
  },
  {
   "cell_type": "code",
   "execution_count": 32,
   "outputs": [
    {
     "data": {
      "text/plain": "397208.0"
     },
     "execution_count": 31,
     "metadata": {},
     "output_type": "execute_result"
    },
    {
     "data": {
      "text/plain": "397208.0"
     },
     "execution_count": 32,
     "metadata": {},
     "output_type": "execute_result"
    }
   ],
   "source": [
    "total_blocks  = 0\n",
    "for filename in files:\n",
    "    if filename.endswith('.txt'):\n",
    "        # Construct the full file path\n",
    "        file_path = os.path.join(directory, filename)\n",
    "        # Load the data from the text file into a numpy array\n",
    "        data = np.loadtxt(file_path)\n",
    "        total_blocks += ((data.shape[0] / 8) * (data.shape[1] / 8))\n",
    "total_blocks"
   ],
   "metadata": {
    "collapsed": false,
    "pycharm": {
     "name": "#%%\n"
    }
   }
  },
  {
   "cell_type": "code",
   "execution_count": 38,
   "outputs": [],
   "source": [
    "\n",
    "def choose_hidden_flag(hidden_flag_map):\n",
    "    sorted_flags = sorted(hidden_flag_map.keys())\n",
    "    for i in range(12151, 2**32):\n",
    "        if sorted_flags[i+1] != sorted_flags[i] +1:\n",
    "            return sorted_flags[i] +1"
   ],
   "metadata": {
    "collapsed": false,
    "pycharm": {
     "name": "#%%\n"
    }
   }
  },
  {
   "cell_type": "markdown",
   "source": [],
   "metadata": {
    "collapsed": false,
    "pycharm": {
     "name": "#%% md\n"
    }
   }
  },
  {
   "cell_type": "code",
   "execution_count": 39,
   "outputs": [
    {
     "data": {
      "text/plain": "1046274"
     },
     "execution_count": 39,
     "metadata": {},
     "output_type": "execute_result"
    }
   ],
   "source": [
    "choose_hidden_flag(hidden_flag_map)"
   ],
   "metadata": {
    "collapsed": false,
    "pycharm": {
     "name": "#%%\n"
    }
   }
  },
  {
   "cell_type": "code",
   "execution_count": 47,
   "outputs": [
    {
     "data": {
      "text/plain": "<Figure size 432x288 with 1 Axes>",
      "image/png": "[encoded data removed]"
     },
     "metadata": {
      "needs_background": "light"
     },
     "output_type": "display_data"
    }
   ],
   "source": [
    "import matplotlib.pyplot as plt\n",
    "X = np.array(list(hidden_flag_map.keys()))\n",
    "plt.scatter( X, [0] * X.shape[0], marker = '.', s = 1)\n",
    "plt.savefig('../output/hidden_flags_opportunity.png',dpi=300)"
   ],
   "metadata": {
    "collapsed": false,
    "pycharm": {
     "name": "#%%\n"
    }
   }
  }
 ],
 "metadata": {
  "kernelspec": {
   "display_name": "Python 3",
   "language": "python",
   "name": "python3"
  },
  "language_info": {
   "codemirror_mode": {
    "name": "ipython",
    "version": 2
   },
   "file_extension": ".py",
   "mimetype": "text/x-python",
   "name": "python",
   "nbconvert_exporter": "python",
   "pygments_lexer": "ipython2",
   "version": "2.7.6"
  }
 },
 "nbformat": 4,
 "nbformat_minor": 0
}