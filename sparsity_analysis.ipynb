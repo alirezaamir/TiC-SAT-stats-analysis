{
 "cells": [
  {
   "cell_type": "code",
   "execution_count": 1,
   "outputs": [
    {
     "name": "stderr",
     "output_type": "stream",
     "text": [
      "/home/alireza/anaconda3/envs/adaexam/lib/python3.8/site-packages/pandas/core/computation/expressions.py:20: UserWarning: Pandas requires version '2.7.3' or newer of 'numexpr' (version '2.7.1' currently installed).\n",
      "  from pandas.core.computation.check import NUMEXPR_INSTALLED\n"
     ]
    }
   ],
   "source": [
    "import numpy as np\n",
    "import pandas as pd\n",
    "import matplotlib.pyplot as plt"
   ],
   "metadata": {
    "collapsed": false,
    "pycharm": {
     "name": "#%%\n"
    }
   }
  },
  {
   "cell_type": "code",
   "execution_count": 2,
   "outputs": [
    {
     "data": {
      "text/plain": "        model  layer_num      module  tiles  pruned_tiles\n0    encoders          0    linear_q   1024           269\n1    encoders          0    linear_k   1024           277\n2    encoders          0    linear_v   1024           396\n3    encoders          0  linear_out   1024           376\n4    encoders          0         w_1   8192          2741\n..        ...        ...         ...    ...           ...\n103  decoders          5    linear_k   1024           256\n104  decoders          5    linear_v   1024           215\n105  decoders          5  linear_out   1024           218\n106  decoders          5         w_1   8192          1756\n107  decoders          5         w_2   8192          1876\n\n[108 rows x 5 columns]",
      "text/html": "<div>\n<style scoped>\n    .dataframe tbody tr th:only-of-type {\n        vertical-align: middle;\n    }\n\n    .dataframe tbody tr th {\n        vertical-align: top;\n    }\n\n    .dataframe thead th {\n        text-align: right;\n    }\n</style>\n<table border=\"1\" class=\"dataframe\">\n  <thead>\n    <tr style=\"text-align: right;\">\n      <th></th>\n      <th>model</th>\n      <th>layer_num</th>\n      <th>module</th>\n      <th>tiles</th>\n      <th>pruned_tiles</th>\n    </tr>\n  </thead>\n  <tbody>\n    <tr>\n      <th>0</th>\n      <td>encoders</td>\n      <td>0</td>\n      <td>linear_q</td>\n      <td>1024</td>\n      <td>269</td>\n    </tr>\n    <tr>\n      <th>1</th>\n      <td>encoders</td>\n      <td>0</td>\n      <td>linear_k</td>\n      <td>1024</td>\n      <td>277</td>\n    </tr>\n    <tr>\n      <th>2</th>\n      <td>encoders</td>\n      <td>0</td>\n      <td>linear_v</td>\n      <td>1024</td>\n      <td>396</td>\n    </tr>\n    <tr>\n      <th>3</th>\n      <td>encoders</td>\n      <td>0</td>\n      <td>linear_out</td>\n      <td>1024</td>\n      <td>376</td>\n    </tr>\n    <tr>\n      <th>4</th>\n      <td>encoders</td>\n      <td>0</td>\n      <td>w_1</td>\n      <td>8192</td>\n      <td>2741</td>\n    </tr>\n    <tr>\n      <th>...</th>\n      <td>...</td>\n      <td>...</td>\n      <td>...</td>\n      <td>...</td>\n      <td>...</td>\n    </tr>\n    <tr>\n      <th>103</th>\n      <td>decoders</td>\n      <td>5</td>\n      <td>linear_k</td>\n      <td>1024</td>\n      <td>256</td>\n    </tr>\n    <tr>\n      <th>104</th>\n      <td>decoders</td>\n      <td>5</td>\n      <td>linear_v</td>\n      <td>1024</td>\n      <td>215</td>\n    </tr>\n    <tr>\n      <th>105</th>\n      <td>decoders</td>\n      <td>5</td>\n      <td>linear_out</td>\n      <td>1024</td>\n      <td>218</td>\n    </tr>\n    <tr>\n      <th>106</th>\n      <td>decoders</td>\n      <td>5</td>\n      <td>w_1</td>\n      <td>8192</td>\n      <td>1756</td>\n    </tr>\n    <tr>\n      <th>107</th>\n      <td>decoders</td>\n      <td>5</td>\n      <td>w_2</td>\n      <td>8192</td>\n      <td>1876</td>\n    </tr>\n  </tbody>\n</table>\n<p>108 rows × 5 columns</p>\n</div>"
     },
     "execution_count": 2,
     "metadata": {},
     "output_type": "execute_result"
    }
   ],
   "source": [
    "filename = './model_sparsity/decode_bc_tile8_th0.90_layer_sparsity.txt'\n",
    "exp_list = []\n",
    "with open(filename, 'r') as sparsity_file:\n",
    "    lines = sparsity_file.readlines()\n",
    "    for line in lines:\n",
    "        if line.startswith('module name: '):\n",
    "            experiment = {'model': line.split('.')[1],\n",
    "                          'layer_num': int(line.split('.')[2]),\n",
    "                          'module': line.split('.')[4]}\n",
    "        elif line.startswith('module tiles:'):\n",
    "            experiment['tiles'] = int(float(line.split(': ')[1]))\n",
    "        elif line.startswith('module pruned tiles'):\n",
    "            experiment['pruned_tiles'] = int(line.split('tiles ')[1])\n",
    "        elif line.startswith('module: tiles pruning'):\n",
    "            exp_list.append(experiment)\n",
    "\n",
    "df_sparsity = pd.DataFrame(exp_list)\n",
    "df_sparsity\n",
    "\n"
   ],
   "metadata": {
    "collapsed": false,
    "pycharm": {
     "name": "#%%\n"
    }
   }
  },
  {
   "cell_type": "code",
   "execution_count": 3,
   "outputs": [
    {
     "data": {
      "text/plain": "   Unnamed: 0               model       layer  sim_seconds\n0           0  Decoder sparsity 0      Query1     0.037954\n1           1  Decoder sparsity 0        Key1     0.037817\n2           2  Decoder sparsity 0      Value1     0.038081\n3           3  Decoder sparsity 0  Transpose1     0.005051\n4           4  Decoder sparsity 0        QKT1     0.097844",
      "text/html": "<div>\n<style scoped>\n    .dataframe tbody tr th:only-of-type {\n        vertical-align: middle;\n    }\n\n    .dataframe tbody tr th {\n        vertical-align: top;\n    }\n\n    .dataframe thead th {\n        text-align: right;\n    }\n</style>\n<table border=\"1\" class=\"dataframe\">\n  <thead>\n    <tr style=\"text-align: right;\">\n      <th></th>\n      <th>Unnamed: 0</th>\n      <th>model</th>\n      <th>layer</th>\n      <th>sim_seconds</th>\n    </tr>\n  </thead>\n  <tbody>\n    <tr>\n      <th>0</th>\n      <td>0</td>\n      <td>Decoder sparsity 0</td>\n      <td>Query1</td>\n      <td>0.037954</td>\n    </tr>\n    <tr>\n      <th>1</th>\n      <td>1</td>\n      <td>Decoder sparsity 0</td>\n      <td>Key1</td>\n      <td>0.037817</td>\n    </tr>\n    <tr>\n      <th>2</th>\n      <td>2</td>\n      <td>Decoder sparsity 0</td>\n      <td>Value1</td>\n      <td>0.038081</td>\n    </tr>\n    <tr>\n      <th>3</th>\n      <td>3</td>\n      <td>Decoder sparsity 0</td>\n      <td>Transpose1</td>\n      <td>0.005051</td>\n    </tr>\n    <tr>\n      <th>4</th>\n      <td>4</td>\n      <td>Decoder sparsity 0</td>\n      <td>QKT1</td>\n      <td>0.097844</td>\n    </tr>\n  </tbody>\n</table>\n</div>"
     },
     "execution_count": 3,
     "metadata": {},
     "output_type": "execute_result"
    }
   ],
   "source": [
    "df = pd.read_csv('./output/load_skip_data.csv', sep=',')\n",
    "df.head()"
   ],
   "metadata": {
    "collapsed": false,
    "pycharm": {
     "name": "#%%\n"
    }
   }
  },
  {
   "cell_type": "code",
   "execution_count": 4,
   "outputs": [
    {
     "data": {
      "text/plain": "     Unnamed: 0                model       layer  sim_seconds  sparsity  \\\n0             0   Decoder sparsity 0      Query1     0.037954         0   \n1             1   Decoder sparsity 0        Key1     0.037817         0   \n2             2   Decoder sparsity 0      Value1     0.038081         0   \n3             3   Decoder sparsity 0  Transpose1     0.005051         0   \n4             4   Decoder sparsity 0        QKT1     0.097844         0   \n..          ...                  ...         ...          ...       ...   \n755         755  Encoder sparsity 35  Projection     0.491314        35   \n756         756  Encoder sparsity 35   Add/Norm0     0.081558        35   \n757         757  Encoder sparsity 35         FF0     5.003215        35   \n758         758  Encoder sparsity 35         FF1     4.885143        35   \n759         759  Encoder sparsity 35   Add/Norm1     0.038168        35   \n\n    encoder_decoder    MHA  Head      module  \n0           decoder   True   1.0       Query  \n1           decoder   True   1.0         Key  \n2           decoder   True   1.0       Value  \n3           decoder   True   1.0   Transpose  \n4           decoder   True   1.0         QKT  \n..              ...    ...   ...         ...  \n755         encoder  False   NaN  Projection  \n756         encoder  False   NaN   Add/Norm0  \n757         encoder  False   NaN         FF0  \n758         encoder  False   NaN         FF1  \n759         encoder  False   NaN   Add/Norm1  \n\n[760 rows x 9 columns]",
      "text/html": "<div>\n<style scoped>\n    .dataframe tbody tr th:only-of-type {\n        vertical-align: middle;\n    }\n\n    .dataframe tbody tr th {\n        vertical-align: top;\n    }\n\n    .dataframe thead th {\n        text-align: right;\n    }\n</style>\n<table border=\"1\" class=\"dataframe\">\n  <thead>\n    <tr style=\"text-align: right;\">\n      <th></th>\n      <th>Unnamed: 0</th>\n      <th>model</th>\n      <th>layer</th>\n      <th>sim_seconds</th>\n      <th>sparsity</th>\n      <th>encoder_decoder</th>\n      <th>MHA</th>\n      <th>Head</th>\n      <th>module</th>\n    </tr>\n  </thead>\n  <tbody>\n    <tr>\n      <th>0</th>\n      <td>0</td>\n      <td>Decoder sparsity 0</td>\n      <td>Query1</td>\n      <td>0.037954</td>\n      <td>0</td>\n      <td>decoder</td>\n      <td>True</td>\n      <td>1.0</td>\n      <td>Query</td>\n    </tr>\n    <tr>\n      <th>1</th>\n      <td>1</td>\n      <td>Decoder sparsity 0</td>\n      <td>Key1</td>\n      <td>0.037817</td>\n      <td>0</td>\n      <td>decoder</td>\n      <td>True</td>\n      <td>1.0</td>\n      <td>Key</td>\n    </tr>\n    <tr>\n      <th>2</th>\n      <td>2</td>\n      <td>Decoder sparsity 0</td>\n      <td>Value1</td>\n      <td>0.038081</td>\n      <td>0</td>\n      <td>decoder</td>\n      <td>True</td>\n      <td>1.0</td>\n      <td>Value</td>\n    </tr>\n    <tr>\n      <th>3</th>\n      <td>3</td>\n      <td>Decoder sparsity 0</td>\n      <td>Transpose1</td>\n      <td>0.005051</td>\n      <td>0</td>\n      <td>decoder</td>\n      <td>True</td>\n      <td>1.0</td>\n      <td>Transpose</td>\n    </tr>\n    <tr>\n      <th>4</th>\n      <td>4</td>\n      <td>Decoder sparsity 0</td>\n      <td>QKT1</td>\n      <td>0.097844</td>\n      <td>0</td>\n      <td>decoder</td>\n      <td>True</td>\n      <td>1.0</td>\n      <td>QKT</td>\n    </tr>\n    <tr>\n      <th>...</th>\n      <td>...</td>\n      <td>...</td>\n      <td>...</td>\n      <td>...</td>\n      <td>...</td>\n      <td>...</td>\n      <td>...</td>\n      <td>...</td>\n      <td>...</td>\n    </tr>\n    <tr>\n      <th>755</th>\n      <td>755</td>\n      <td>Encoder sparsity 35</td>\n      <td>Projection</td>\n      <td>0.491314</td>\n      <td>35</td>\n      <td>encoder</td>\n      <td>False</td>\n      <td>NaN</td>\n      <td>Projection</td>\n    </tr>\n    <tr>\n      <th>756</th>\n      <td>756</td>\n      <td>Encoder sparsity 35</td>\n      <td>Add/Norm0</td>\n      <td>0.081558</td>\n      <td>35</td>\n      <td>encoder</td>\n      <td>False</td>\n      <td>NaN</td>\n      <td>Add/Norm0</td>\n    </tr>\n    <tr>\n      <th>757</th>\n      <td>757</td>\n      <td>Encoder sparsity 35</td>\n      <td>FF0</td>\n      <td>5.003215</td>\n      <td>35</td>\n      <td>encoder</td>\n      <td>False</td>\n      <td>NaN</td>\n      <td>FF0</td>\n    </tr>\n    <tr>\n      <th>758</th>\n      <td>758</td>\n      <td>Encoder sparsity 35</td>\n      <td>FF1</td>\n      <td>4.885143</td>\n      <td>35</td>\n      <td>encoder</td>\n      <td>False</td>\n      <td>NaN</td>\n      <td>FF1</td>\n    </tr>\n    <tr>\n      <th>759</th>\n      <td>759</td>\n      <td>Encoder sparsity 35</td>\n      <td>Add/Norm1</td>\n      <td>0.038168</td>\n      <td>35</td>\n      <td>encoder</td>\n      <td>False</td>\n      <td>NaN</td>\n      <td>Add/Norm1</td>\n    </tr>\n  </tbody>\n</table>\n<p>760 rows × 9 columns</p>\n</div>"
     },
     "execution_count": 4,
     "metadata": {},
     "output_type": "execute_result"
    }
   ],
   "source": [
    "df['sparsity'] = df['model'].apply(lambda x: int(x.split(' ')[-1]))\n",
    "df['encoder_decoder'] = df['model'].apply(lambda x: x.split(' ')[0].lower())\n",
    "MHA_layers = ['Query', 'Key', 'Value', 'Transpose', 'QKT', 'Pre-Softmax', 'Score', 'Post-Softmax']\n",
    "df['MHA'] = df['layer'].apply(lambda x: x[:-1] in MHA_layers)\n",
    "df['Head'] = df[df['MHA']]['layer'].apply(lambda x: int(x[-1]))\n",
    "df['module'] = df['layer'].apply(lambda x: x[:-1] if x[:-1] in MHA_layers else x)\n",
    "df\n"
   ],
   "metadata": {
    "collapsed": false,
    "pycharm": {
     "name": "#%%\n"
    }
   }
  },
  {
   "cell_type": "code",
   "execution_count": 5,
   "outputs": [
    {
     "data": {
      "text/plain": "encoder_decoder  sparsity  module   \ndecoder          0         Add/Norm0    0.013406\n                           Add/Norm1    0.004681\n                           FF0          1.484674\n                           FF1          1.436320\n                           Key          0.038578\n                                          ...   \nencoder          45        QKT          5.670132\n                           Query        0.118722\n                           Score        5.420628\n                           Transpose    0.023022\n                           Value        0.113639\nName: sim_seconds, Length: 280, dtype: float64"
     },
     "execution_count": 5,
     "metadata": {},
     "output_type": "execute_result"
    }
   ],
   "source": [
    "df.groupby(['encoder_decoder', 'sparsity', 'module'])['sim_seconds'].mean()"
   ],
   "metadata": {
    "collapsed": false,
    "pycharm": {
     "name": "#%%\n"
    }
   }
  },
  {
   "cell_type": "code",
   "execution_count": 6,
   "outputs": [
    {
     "data": {
      "text/plain": "encoder_decoder  module      \ndecoder          Add/Norm0       0.013970\n                 Add/Norm1       0.005252\n                 Nan             0.004935\n                 Post-Softmax    0.013637\n                 Pre-Softmax     0.031004\n                 QKT             0.100075\n                 Score           0.099798\n                 Transpose       0.005845\nencoder          Add/Norm0       0.071373\n                 Add/Norm1       0.028173\n                 Nan             0.026618\n                 Post-Softmax    0.309046\n                 Pre-Softmax     0.686921\n                 QKT             5.663451\n                 Score           5.406620\n                 Transpose       0.030193\nName: sim_seconds, dtype: float64"
     },
     "execution_count": 6,
     "metadata": {},
     "output_type": "execute_result"
    }
   ],
   "source": [
    "prunable_layers = [\"Query\", \"Key\", \"Value\", \"Projection\", \"FF0\", \"FF1\"]\n",
    "df['prunable'] = df['module'].apply(lambda x: x in prunable_layers)\n",
    "df[df['prunable'] == False].groupby(['encoder_decoder','module'])['sim_seconds'].mean()"
   ],
   "metadata": {
    "collapsed": false,
    "pycharm": {
     "name": "#%%\n"
    }
   }
  },
  {
   "cell_type": "code",
   "execution_count": 27,
   "outputs": [
    {
     "data": {
      "text/plain": "  encoder_decoder  sparsity      module  sim_seconds\n0         decoder         0         FF0     1.484674\n1         decoder         0         FF1     1.436320\n2         decoder         0         Key     0.038578\n3         decoder         0  Projection     0.144371\n4         decoder         0       Query     0.038302",
      "text/html": "<div>\n<style scoped>\n    .dataframe tbody tr th:only-of-type {\n        vertical-align: middle;\n    }\n\n    .dataframe tbody tr th {\n        vertical-align: top;\n    }\n\n    .dataframe thead th {\n        text-align: right;\n    }\n</style>\n<table border=\"1\" class=\"dataframe\">\n  <thead>\n    <tr style=\"text-align: right;\">\n      <th></th>\n      <th>encoder_decoder</th>\n      <th>sparsity</th>\n      <th>module</th>\n      <th>sim_seconds</th>\n    </tr>\n  </thead>\n  <tbody>\n    <tr>\n      <th>0</th>\n      <td>decoder</td>\n      <td>0</td>\n      <td>FF0</td>\n      <td>1.484674</td>\n    </tr>\n    <tr>\n      <th>1</th>\n      <td>decoder</td>\n      <td>0</td>\n      <td>FF1</td>\n      <td>1.436320</td>\n    </tr>\n    <tr>\n      <th>2</th>\n      <td>decoder</td>\n      <td>0</td>\n      <td>Key</td>\n      <td>0.038578</td>\n    </tr>\n    <tr>\n      <th>3</th>\n      <td>decoder</td>\n      <td>0</td>\n      <td>Projection</td>\n      <td>0.144371</td>\n    </tr>\n    <tr>\n      <th>4</th>\n      <td>decoder</td>\n      <td>0</td>\n      <td>Query</td>\n      <td>0.038302</td>\n    </tr>\n  </tbody>\n</table>\n</div>"
     },
     "execution_count": 27,
     "metadata": {},
     "output_type": "execute_result"
    }
   ],
   "source": [
    "encoder_non_prunable = 0.71373 * 2 + 4* (0.309046 + 0.686921 + 5.6634 + 5.4066 + 0.03)\n",
    "decoder_non_prunable = 0.01397 * 3 + 8 * (0.013637 + 0.031004 + 0.100075 + 0.099798  + 0.0058)\n",
    "df_prunable = df[df['prunable'] == True].groupby(['encoder_decoder', 'sparsity', 'module'])['sim_seconds'].mean().reset_index()\n",
    "df_prunable.head()"
   ],
   "metadata": {
    "collapsed": false,
    "pycharm": {
     "name": "#%%\n"
    }
   }
  },
  {
   "cell_type": "code",
   "execution_count": 16,
   "outputs": [
    {
     "data": {
      "text/plain": "     model  layer_num      module  tiles  pruned_tiles  sparsity\n0  encoder          0       Query   1024           269        25\n1  encoder          0         Key   1024           277        25\n2  encoder          0       Value   1024           396        40\n3  encoder          0  Projection   1024           376        35\n4  encoder          0         FF0   8192          2741        35",
      "text/html": "<div>\n<style scoped>\n    .dataframe tbody tr th:only-of-type {\n        vertical-align: middle;\n    }\n\n    .dataframe tbody tr th {\n        vertical-align: top;\n    }\n\n    .dataframe thead th {\n        text-align: right;\n    }\n</style>\n<table border=\"1\" class=\"dataframe\">\n  <thead>\n    <tr style=\"text-align: right;\">\n      <th></th>\n      <th>model</th>\n      <th>layer_num</th>\n      <th>module</th>\n      <th>tiles</th>\n      <th>pruned_tiles</th>\n      <th>sparsity</th>\n    </tr>\n  </thead>\n  <tbody>\n    <tr>\n      <th>0</th>\n      <td>encoder</td>\n      <td>0</td>\n      <td>Query</td>\n      <td>1024</td>\n      <td>269</td>\n      <td>25</td>\n    </tr>\n    <tr>\n      <th>1</th>\n      <td>encoder</td>\n      <td>0</td>\n      <td>Key</td>\n      <td>1024</td>\n      <td>277</td>\n      <td>25</td>\n    </tr>\n    <tr>\n      <th>2</th>\n      <td>encoder</td>\n      <td>0</td>\n      <td>Value</td>\n      <td>1024</td>\n      <td>396</td>\n      <td>40</td>\n    </tr>\n    <tr>\n      <th>3</th>\n      <td>encoder</td>\n      <td>0</td>\n      <td>Projection</td>\n      <td>1024</td>\n      <td>376</td>\n      <td>35</td>\n    </tr>\n    <tr>\n      <th>4</th>\n      <td>encoder</td>\n      <td>0</td>\n      <td>FF0</td>\n      <td>8192</td>\n      <td>2741</td>\n      <td>35</td>\n    </tr>\n  </tbody>\n</table>\n</div>"
     },
     "execution_count": 16,
     "metadata": {},
     "output_type": "execute_result"
    }
   ],
   "source": [
    "name_dict = {'linear_q': 'Query',\n",
    "             'linear_v': 'Value',\n",
    "             'linear_k': 'Key',\n",
    "             'linear_out': 'Projection',\n",
    "             'w_1': 'FF0',\n",
    "             'w_2': 'FF1',\n",
    "             'encoders': 'encoder',\n",
    "             'decoders': 'decoder'}\n",
    "df_sparsity = df_sparsity.replace(name_dict)\n",
    "df_sparsity['sparsity'] = (df_sparsity['pruned_tiles'] / df_sparsity['tiles']) * 100\n",
    "df_sparsity['sparsity'] = df_sparsity['sparsity'].apply(lambda  x: min(5* round(x/5), 45))\n",
    "df_sparsity.head()"
   ],
   "metadata": {
    "collapsed": false,
    "pycharm": {
     "name": "#%%\n"
    }
   }
  },
  {
   "cell_type": "code",
   "execution_count": 18,
   "outputs": [
    {
     "data": {
      "text/plain": "       model  layer_num      module  tiles  pruned_tiles  sparsity  \\\n0    encoder          0       Query   1024           269        25   \n1    encoder          0         Key   1024           277        25   \n2    encoder          0       Value   1024           396        40   \n3    encoder          0  Projection   1024           376        35   \n4    encoder          0         FF0   8192          2741        35   \n..       ...        ...         ...    ...           ...       ...   \n103  decoder          5         Key   1024           256        25   \n104  decoder          5       Value   1024           215        20   \n105  decoder          5  Projection   1024           218        20   \n106  decoder          5         FF0   8192          1756        20   \n107  decoder          5         FF1   8192          1876        25   \n\n    encoder_decoder  sim_seconds    MHA  \n0           encoder     0.645922   True  \n1           encoder     0.637129   True  \n2           encoder     0.496785   True  \n3           encoder     0.491314  False  \n4           encoder     5.003215  False  \n..              ...          ...    ...  \n103         decoder     0.030983   True  \n104         decoder     0.031192   True  \n105         decoder     0.115717  False  \n106         decoder     1.205852  False  \n107         decoder     1.078079  False  \n\n[108 rows x 9 columns]",
      "text/html": "<div>\n<style scoped>\n    .dataframe tbody tr th:only-of-type {\n        vertical-align: middle;\n    }\n\n    .dataframe tbody tr th {\n        vertical-align: top;\n    }\n\n    .dataframe thead th {\n        text-align: right;\n    }\n</style>\n<table border=\"1\" class=\"dataframe\">\n  <thead>\n    <tr style=\"text-align: right;\">\n      <th></th>\n      <th>model</th>\n      <th>layer_num</th>\n      <th>module</th>\n      <th>tiles</th>\n      <th>pruned_tiles</th>\n      <th>sparsity</th>\n      <th>encoder_decoder</th>\n      <th>sim_seconds</th>\n      <th>MHA</th>\n    </tr>\n  </thead>\n  <tbody>\n    <tr>\n      <th>0</th>\n      <td>encoder</td>\n      <td>0</td>\n      <td>Query</td>\n      <td>1024</td>\n      <td>269</td>\n      <td>25</td>\n      <td>encoder</td>\n      <td>0.645922</td>\n      <td>True</td>\n    </tr>\n    <tr>\n      <th>1</th>\n      <td>encoder</td>\n      <td>0</td>\n      <td>Key</td>\n      <td>1024</td>\n      <td>277</td>\n      <td>25</td>\n      <td>encoder</td>\n      <td>0.637129</td>\n      <td>True</td>\n    </tr>\n    <tr>\n      <th>2</th>\n      <td>encoder</td>\n      <td>0</td>\n      <td>Value</td>\n      <td>1024</td>\n      <td>396</td>\n      <td>40</td>\n      <td>encoder</td>\n      <td>0.496785</td>\n      <td>True</td>\n    </tr>\n    <tr>\n      <th>3</th>\n      <td>encoder</td>\n      <td>0</td>\n      <td>Projection</td>\n      <td>1024</td>\n      <td>376</td>\n      <td>35</td>\n      <td>encoder</td>\n      <td>0.491314</td>\n      <td>False</td>\n    </tr>\n    <tr>\n      <th>4</th>\n      <td>encoder</td>\n      <td>0</td>\n      <td>FF0</td>\n      <td>8192</td>\n      <td>2741</td>\n      <td>35</td>\n      <td>encoder</td>\n      <td>5.003215</td>\n      <td>False</td>\n    </tr>\n    <tr>\n      <th>...</th>\n      <td>...</td>\n      <td>...</td>\n      <td>...</td>\n      <td>...</td>\n      <td>...</td>\n      <td>...</td>\n      <td>...</td>\n      <td>...</td>\n      <td>...</td>\n    </tr>\n    <tr>\n      <th>103</th>\n      <td>decoder</td>\n      <td>5</td>\n      <td>Key</td>\n      <td>1024</td>\n      <td>256</td>\n      <td>25</td>\n      <td>decoder</td>\n      <td>0.030983</td>\n      <td>True</td>\n    </tr>\n    <tr>\n      <th>104</th>\n      <td>decoder</td>\n      <td>5</td>\n      <td>Value</td>\n      <td>1024</td>\n      <td>215</td>\n      <td>20</td>\n      <td>decoder</td>\n      <td>0.031192</td>\n      <td>True</td>\n    </tr>\n    <tr>\n      <th>105</th>\n      <td>decoder</td>\n      <td>5</td>\n      <td>Projection</td>\n      <td>1024</td>\n      <td>218</td>\n      <td>20</td>\n      <td>decoder</td>\n      <td>0.115717</td>\n      <td>False</td>\n    </tr>\n    <tr>\n      <th>106</th>\n      <td>decoder</td>\n      <td>5</td>\n      <td>FF0</td>\n      <td>8192</td>\n      <td>1756</td>\n      <td>20</td>\n      <td>decoder</td>\n      <td>1.205852</td>\n      <td>False</td>\n    </tr>\n    <tr>\n      <th>107</th>\n      <td>decoder</td>\n      <td>5</td>\n      <td>FF1</td>\n      <td>8192</td>\n      <td>1876</td>\n      <td>25</td>\n      <td>decoder</td>\n      <td>1.078079</td>\n      <td>False</td>\n    </tr>\n  </tbody>\n</table>\n<p>108 rows × 9 columns</p>\n</div>"
     },
     "execution_count": 18,
     "metadata": {},
     "output_type": "execute_result"
    }
   ],
   "source": [
    "df_prunable_time = pd.merge(left=df_sparsity, right=df_prunable, left_on=['model', 'module', 'sparsity'], right_on=['encoder_decoder', 'module', 'sparsity'], how='left')\n",
    "df_prunable_time['MHA'] = df_prunable_time['module'].apply(lambda x: x in ['Query', 'Key', 'Value'])\n",
    "df_prunable_time.loc[df_prunable_time['MHA'] * (df_prunable_time['encoder_decoder'] == 'encoder'), 'sim_seconds'] *= 4\n",
    "df_prunable_time.loc[df_prunable_time['MHA'] * (df_prunable_time['encoder_decoder'] == 'decoder'), 'sim_seconds'] *= 8\n",
    "df_prunable_time"
   ],
   "metadata": {
    "collapsed": false,
    "pycharm": {
     "name": "#%%\n"
    }
   }
  },
  {
   "cell_type": "code",
   "execution_count": 19,
   "outputs": [
    {
     "data": {
      "text/plain": "encoder_decoder\ndecoder     14.888418\nencoder    159.828436\nName: sim_seconds, dtype: float64"
     },
     "execution_count": 19,
     "metadata": {},
     "output_type": "execute_result"
    }
   ],
   "source": [
    "df_prunable_time.groupby('encoder_decoder')['sim_seconds'].sum()"
   ],
   "metadata": {
    "collapsed": false,
    "pycharm": {
     "name": "#%%\n"
    }
   }
  },
  {
   "cell_type": "code",
   "execution_count": 30,
   "outputs": [
    {
     "data": {
      "text/plain": "(174.71685375, 597.735936, 12.266532000000002, 610.002468)"
     },
     "execution_count": 30,
     "metadata": {},
     "output_type": "execute_result"
    }
   ],
   "source": [
    "total_prunable_time = df_prunable_time['sim_seconds'].sum()\n",
    "total_non_prunable_time = 12* encoder_non_prunable + 6* decoder_non_prunable\n",
    "total_prunable_time, 12*encoder_non_prunable, 6*decoder_non_prunable, total_non_prunable_time"
   ],
   "metadata": {
    "collapsed": false,
    "pycharm": {
     "name": "#%%\n"
    }
   }
  },
  {
   "cell_type": "code",
   "execution_count": 26,
   "outputs": [
    {
     "data": {
      "text/plain": "(214.08962400000001, 23.919354000000002)"
     },
     "execution_count": 26,
     "metadata": {},
     "output_type": "execute_result"
    }
   ],
   "source": [
    "df_baseline = df_prunable[df_prunable['sparsity'] == 0].copy()\n",
    "df_baseline['MHA'] = df_baseline['module'].apply(lambda x: x in ['Query', 'Key', 'Value'])\n",
    "df_baseline.loc[df_baseline['MHA'] * (df_baseline['encoder_decoder'] == 'encoder'), 'sim_seconds'] *= 4\n",
    "df_baseline.loc[df_baseline['MHA'] * (df_baseline['encoder_decoder'] == 'decoder'), 'sim_seconds'] *= 8\n",
    "baseline_prunable_time = df_baseline.groupby('encoder_decoder')['sim_seconds'].sum()\n",
    "# total_baseline_prunable_time = baseline_prunable_time.loc['encoder'] * 12 + baseline_prunable_time.loc['decoder'] * 6\n",
    "baseline_prunable_time.loc['encoder'] * 12, baseline_prunable_time.loc['decoder'] * 6"
   ],
   "metadata": {
    "collapsed": false,
    "pycharm": {
     "name": "#%%\n"
    }
   }
  },
  {
   "cell_type": "code",
   "execution_count": 12,
   "outputs": [
    {
     "data": {
      "text/plain": "(0.9275846800678093, 0.7416834164099856)"
     },
     "execution_count": 12,
     "metadata": {},
     "output_type": "execute_result"
    }
   ],
   "source": [
    "(total_prunable_time + total_non_prunable_time) / (total_baseline_prunable_time + total_non_prunable_time), total_prunable_time/ total_baseline_prunable_time"
   ],
   "metadata": {
    "collapsed": false,
    "pycharm": {
     "name": "#%%\n"
    }
   }
  }
 ],
 "metadata": {
  "kernelspec": {
   "display_name": "Python 3",
   "language": "python",
   "name": "python3"
  },
  "language_info": {
   "codemirror_mode": {
    "name": "ipython",
    "version": 2
   },
   "file_extension": ".py",
   "mimetype": "text/x-python",
   "name": "python",
   "nbconvert_exporter": "python",
   "pygments_lexer": "ipython2",
   "version": "2.7.6"
  }
 },
 "nbformat": 4,
 "nbformat_minor": 0
}