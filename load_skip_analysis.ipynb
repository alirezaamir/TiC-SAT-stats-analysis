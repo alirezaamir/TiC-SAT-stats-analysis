{
 "cells": [
  {
   "cell_type": "code",
   "execution_count": 1,
   "metadata": {
    "collapsed": true,
    "pycharm": {
     "name": "#%%\n"
    }
   },
   "outputs": [
    {
     "name": "stderr",
     "output_type": "stream",
     "text": [
      "/home/alireza/anaconda3/envs/adaexam/lib/python3.8/site-packages/pandas/core/computation/expressions.py:20: UserWarning: Pandas requires version '2.7.3' or newer of 'numexpr' (version '2.7.1' currently installed).\n",
      "  from pandas.core.computation.check import NUMEXPR_INSTALLED\n"
     ]
    }
   ],
   "source": [
    "import numpy as np\n",
    "import pandas as pd\n",
    "import matplotlib.pyplot as plt\n"
   ]
  },
  {
   "cell_type": "code",
   "execution_count": 2,
   "outputs": [],
   "source": [
    "\n",
    "# filenames = {\"./stats/Mar1/stats_load_skip.txt\": [\"Decoder sparsity 0\",\n",
    "#                                                   \"Decoder sparsity 5\",\n",
    "#                                                   \"Encoder sparsity 0\",\n",
    "#                                                   \"Encoder sparsity 5\",\n",
    "#                                                   \"Encoder sparsity 40\",\n",
    "#                                                    ],\n",
    "#              \"./stats/Mar1/stats_load_skip2.txt\": [\"Decoder sparsity 10\",\n",
    "#                                                   \"Decoder sparsity 15\",\n",
    "#                                                   \"Encoder sparsity 10\",\n",
    "#                                                   \"Encoder sparsity 15\",\n",
    "#                                                    \"Encoder sparsity 45\",\n",
    "#                                                    ],\n",
    "#              \"./stats/Mar1/stats_load_skip3.txt\": [\"Decoder sparsity 20\",\n",
    "#                                                   \"Decoder sparsity 25\",\n",
    "#                                                   \"Encoder sparsity 20\",\n",
    "#                                                   \"Encoder sparsity 25\",\n",
    "#                                                    \"Decoder sparsity 40\",\n",
    "#                                                    \"Decoder sparsity 45\",\n",
    "#                                                    ],\n",
    "#              \"./stats/Mar1/stats_load_skip4.txt\": [\"Decoder sparsity 30\",\n",
    "#                                                   \"Decoder sparsity 35\",\n",
    "#                                                   \"Encoder sparsity 30\",\n",
    "#                                                   \"Encoder sparsity 35\",\n",
    "#                                                     ],\n",
    "#              }\n",
    "\n",
    "# filenames =  {\"./stats/Mar16/stats_rearrange16.txt\":\n",
    "#                   [\"Rearrange 16*16 Sparsity 0\",\n",
    "#                    \"Rearrange 16*16 Sparsity 10\",\n",
    "#                    \"Rearrange 16*16 Sparsity 20\",\n",
    "#                    \"Rearrange 16*16 Sparsity 30\",\n",
    "#                    \"Rearrange 16*16 Sparsity 40\",\n",
    "#                    \"Rearrange 16*16 Sparsity 50\",\n",
    "#                    \"Rearrange 16*16 Sparsity 60\",\n",
    "#                    \"Rearrange 16*16 Sparsity 70\",\n",
    "#                    \"Rearrange 16*16 Sparsity 80\",\n",
    "#                    \"Rearrange 16*16 Sparsity 90\"],\n",
    "#               \"./stats/Mar16/stats_rearrange16_2.txt\":\n",
    "#                   [\"TiCSAT 16*16 Sparsity 0\",\n",
    "#                    \"TiCSAT 16*16 Sparsity 10\",\n",
    "#                    \"TiCSAT 16*16 Sparsity 20\",\n",
    "#                    \"TiCSAT 16*16 Sparsity 30\",\n",
    "#                    \"TiCSAT 16*16 Sparsity 40\",\n",
    "#                    \"TiCSAT 16*16 Sparsity 50\",\n",
    "#                    \"TiCSAT 16*16 Sparsity 60\",\n",
    "#                    \"TiCSAT 16*16 Sparsity 70\",\n",
    "#                    \"TiCSAT 16*16 Sparsity 80\",\n",
    "#                    \"TiCSAT 16*16 Sparsity 90\"]\n",
    "# \"./stats/Mar13/stats_rearrange16_2.txt\" : [\"TiCSAT 16*16_256\",\n",
    "#                                                         \"Rearranged 16*16\",\n",
    "#                                                         \"TiCSAT 16*16_512\"],\n",
    "    # \"./stats/Mar7/stats_load_skip4.txt\": [\"Memory Rearranged\",\n",
    "    #                                                \"TiCSAT 8*8\"]\n",
    "# }\n",
    "\n",
    "filenames = {\"./stats/Mar17/stats_rearrange16.txt\":\n",
    "                 [\"Rearrange 16*16 Sparsity 90\",\n",
    "                   \"Rearrange 16*16 Sparsity 80\",\n",
    "                   \"Rearrange 16*16 Sparsity 70\",\n",
    "                   \"Rearrange 16*16 Sparsity 60\",\n",
    "                   \"Rearrange 16*16 Sparsity 50\",\n",
    "                   \"Rearrange 16*16 Sparsity 40\",\n",
    "                   \"Rearrange 16*16 Sparsity 30\",\n",
    "                   \"Rearrange 16*16 Sparsity 20\",\n",
    "                   \"Rearrange 16*16 Sparsity 10\",\n",
    "                   \"Rearrange 16*16 Sparsity 0\"],\n",
    "             \"./stats/Mar17/stats_rearrange16_2.txt\":\n",
    "             [\"Zero-free 16*16 Sparsity 90\",\n",
    "                   \"Zero-free 16*16 Sparsity 80\",\n",
    "                   \"Zero-free 16*16 Sparsity 70\",\n",
    "                   \"Zero-free 16*16 Sparsity 60\",\n",
    "                   \"Zero-free 16*16 Sparsity 50\",\n",
    "                   \"Zero-free 16*16 Sparsity 40\",\n",
    "                   \"Zero-free 16*16 Sparsity 30\",\n",
    "                   \"Zero-free 16*16 Sparsity 20\",\n",
    "                   \"Zero-free 16*16 Sparsity 10\",\n",
    "                   \"Zero-free 16*16 Sparsity 0\"],\n",
    "             \"./stats/Mar30/stats_rearrange16.txt\":\n",
    "             [\"O3 Zero-free 16*16 Sparsity 90\",\n",
    "                   \"O3 Zero-free 16*16 Sparsity 40\",\n",
    "                   ],\n",
    "             \"./stats/Mar31/stats_rearrange16.txt\":\n",
    "             [\"O3 Load-skip 16*16 Sparsity 90\",\n",
    "                   \"O3 Load-skip 16*16 Sparsity 40\",\n",
    "                   ],\n",
    "             \"./stats/Apr1/stats_rearrange16.txt\":\n",
    "             [\"Load-skip 16*16 ViT 4kB_128kB Sparsity 90\",\n",
    "                   \"Load-skip 16*16 ViT 4kB_128kB Sparsity 40\",\n",
    "              \"O3 Load-skip 16*16 lBert 4kB_128kB Sparsity 90\",\n",
    "                   \"O3 Load-skip 16*16 lBert 4kB_128kB Sparsity 40\",\n",
    "                   ],\n",
    "             \"./stats/Apr1/stats_rearrange16_2.txt\":\n",
    "             [\"Zero-free 16*16 ViT 4kB_128kB Sparsity 90\",\n",
    "                   \"Zero-free 16*16 ViT 4kB_128kB Sparsity 40\",\n",
    "              \"O3 Zero-free 16*16 lBert 4kB_128kB Sparsity 90\",\n",
    "                   \"O3 Zero-free 16*16 lBert 4kB_128kB Sparsity 40\",\n",
    "              \"Upper Bound 16*16 ViT 4kB_128kB Sparsity 90\",\n",
    "                   \"Upper Bound 16*16 ViT 4kB_128kB Sparsity 40\"\n",
    "                   ],\n",
    "             \"./stats/Apr1/stats_prefetch.txt\":\n",
    "             [\"O3 Prefetch Zero-free 16*16 lBert 4kB_128kB Sparsity 90\",\n",
    "                   \"O3 Prefetch Zero-free 16*16 lBert 4kB_128kB Sparsity 40\",\n",
    "              \"O3 Prefetch load-skip 16*16 lBert 4kB_128kB Sparsity 90\",\n",
    "                   \"O3 Prefetch load-skip 16*16 lBert 4kB_128kB Sparsity 40\"\n",
    "                   ]}\n",
    "\n",
    "feature_name = ['sim_seconds',\n",
    "                'sim_ticks',\n",
    "                'system.mem_ctrls.num_reads::total',\n",
    "                'system.mem_ctrls.num_writes::total',\n",
    "                'system.cpu.dcache.overall_hits::total',\n",
    "                'system.cpu.dcache.overall_misses::total',\n",
    "                'system.cpu.dcache.overall_accesses::total',\n",
    "                'system.cpu.dcache.overall_miss_rate::total',\n",
    "                'system.cpu.icache.overall_hits::total',\n",
    "                'system.cpu.icache.overall_misses::total',\n",
    "                'system.cpu.icache.overall_accesses::total',\n",
    "                'system.cpu.icache.overall_miss_rate::total',\n",
    "                'system.l2.overall_hits::total',\n",
    "                'system.l2.overall_misses::total',\n",
    "                'system.l2.overall_accesses::total',\n",
    "                'system.l2.overall_miss_rate::total',\n",
    "                'system.switch_cpus.idleCycles',\n",
    "                'system.switch_cpus.op_class_0::IntAlu',\n",
    "                'system.switch_cpus.op_class_0::IntMult',\n",
    "                'system.switch_cpus.op_class_0::IntDiv',\n",
    "                'system.switch_cpus.op_class_0::MemRead',\n",
    "                'system.switch_cpus.op_class_0::MemWrite',\n",
    "                'system.switch_cpus.op_class_0::CusAluProcess',\n",
    "                'system.switch_cpus.op_class_0::CusAluParamWrite',\n",
    "                'system.switch_cpus.op_class_0::CusAluQueue',\n",
    "                'system.cpu.idleCycles',\n",
    "                'system.cpu.op_class_0::IntAlu',\n",
    "                'system.cpu.op_class_0::IntMult',\n",
    "                'system.cpu.op_class_0::IntDiv',\n",
    "                'system.cpu.op_class_0::MemRead',\n",
    "                'system.cpu.op_class_0::MemWrite',\n",
    "                'system.cpu.op_class_0::CusAluProcess',\n",
    "                'system.cpu.op_class_0::CusAluParamWrite',\n",
    "                'system.cpu.op_class_0::CusAluQueue',\n",
    "                'system.l2.overall_miss_latency::total',\n",
    "                'system.cpu.icache.overall_miss_latency::total',\n",
    "                'system.cpu.dcache.overall_miss_latency::total',\n",
    "                'system.l2.overall_misses::total',\n",
    "                'system.cpu.dcache.overall_misses::total',\n",
    "                'system.cpu.icache.overall_misses::total'\n",
    "                ]\n",
    "\n",
    "MHA_layers = [\"Query\", \"Key\", \"Value\", \"Transpose\", \"QKT\", \"Pre-Softmax\", \"Score\", \"Post-Softmax\"]\n",
    "# layers = [\"{}{}\".format(l, i) for i in range(1,17) for l in MHA_layers ]\n",
    "# layers += [\"Nan\", \"Projection\", \"Add/Norm0\", \"FF0\", \"FF1\", \"Add/Norm1\"]\n",
    "layers = [\"MHA\", \"Projection\", \"Add/Norm0\", \"FF0\", \"FF1\", \"Add/Norm1\"]"
   ],
   "metadata": {
    "collapsed": false,
    "pycharm": {
     "name": "#%%\n"
    }
   }
  },
  {
   "cell_type": "code",
   "execution_count": 3,
   "outputs": [
    {
     "data": {
      "text/plain": "                                                 model       layer  \\\n0                          Rearrange 16*16 Sparsity 90         MHA   \n1                          Rearrange 16*16 Sparsity 90  Projection   \n2                          Rearrange 16*16 Sparsity 90   Add/Norm0   \n3                          Rearrange 16*16 Sparsity 90         FF0   \n4                          Rearrange 16*16 Sparsity 90         FF1   \n..                                                 ...         ...   \n223  O3 Prefetch load-skip 16*16 lBert 4kB_128kB Sp...  Projection   \n224  O3 Prefetch load-skip 16*16 lBert 4kB_128kB Sp...   Add/Norm0   \n225  O3 Prefetch load-skip 16*16 lBert 4kB_128kB Sp...         FF0   \n226  O3 Prefetch load-skip 16*16 lBert 4kB_128kB Sp...         FF1   \n227  O3 Prefetch load-skip 16*16 lBert 4kB_128kB Sp...   Add/Norm1   \n\n     sim_seconds     sim_ticks  system.mem_ctrls.num_reads::total  \\\n0       0.747375  7.473749e+11                           190184.0   \n1       0.058092  5.809175e+10                            55755.0   \n2       0.039299  3.929856e+10                            40715.0   \n3       0.218435  2.184350e+11                           232034.0   \n4       0.209697  2.096975e+11                           149774.0   \n..           ...           ...                                ...   \n223     0.139032  1.390317e+11                            86382.0   \n224     0.036754  3.675362e+10                            68424.0   \n225     0.543032  5.430319e+11                          1404572.0   \n226     0.537508  5.375075e+11                           188631.0   \n227     0.036893  3.689298e+10                            69891.0   \n\n     system.mem_ctrls.num_writes::total  system.cpu.op_class_0::IntAlu  \\\n0                              126874.0                    476479533.0   \n1                               27443.0                     36711314.0   \n2                               21364.0                     16871738.0   \n3                              175575.0                    141061816.0   \n4                               45510.0                    140297339.0   \n..                                  ...                            ...   \n223                             41151.0                     70241534.0   \n224                             38719.0                     17883161.0   \n225                           1291896.0                    274030310.0   \n226                             68309.0                    273017112.0   \n227                             38528.0                     17980799.0   \n\n     system.cpu.op_class_0::IntMult  system.cpu.op_class_0::IntDiv  \\\n0                           38861.0                      4197828.0   \n1                            5468.0                          573.0   \n2                         1087517.0                        35320.0   \n3                            9879.0                         1236.0   \n4                            7869.0                         1217.0   \n..                              ...                            ...   \n223                          6730.0                          908.0   \n224                       1087429.0                        35298.0   \n225                         15183.0                         2638.0   \n226                         12670.0                         2602.0   \n227                       1087408.0                        35278.0   \n\n     system.cpu.op_class_0::MemRead  ...  \\\n0                       116294958.0  ...   \n1                         8593760.0  ...   \n2                         4835978.0  ...   \n3                        32773174.0  ...   \n4                        32588724.0  ...   \n..                              ...  ...   \n223                      46191518.0  ...   \n224                       5099873.0  ...   \n225                     183744958.0  ...   \n226                     183617995.0  ...   \n227                       5127404.0  ...   \n\n     system.cpu.icache.overall_hits::total  \\\n0                              209962202.0   \n1                               14905101.0   \n2                                8508929.0   \n3                               57067189.0   \n4                               56665847.0   \n..                                     ...   \n223                             16655195.0   \n224                              8339471.0   \n225                             63368495.0   \n226                             62866815.0   \n227                              8373885.0   \n\n     system.cpu.icache.overall_misses::total  \\\n0                                   193532.0   \n1                                    44768.0   \n2                                    35753.0   \n3                                    76533.0   \n4                                    52986.0   \n..                                       ...   \n223                                  46441.0   \n224                                  34839.0   \n225                                  87910.0   \n226                                  65668.0   \n227                                  36084.0   \n\n     system.cpu.icache.overall_miss_latency::total  \\\n0                                     6.716274e+09   \n1                                     1.965082e+09   \n2                                     1.622628e+09   \n3                                     2.882127e+09   \n4                                     2.221566e+09   \n..                                             ...   \n223                                   1.489119e+09   \n224                                   1.136463e+09   \n225                                   2.766721e+09   \n226                                   2.082940e+09   \n227                                   1.180884e+09   \n\n     system.cpu.icache.overall_accesses::total  \\\n0                                  210155734.0   \n1                                   14949869.0   \n2                                    8544682.0   \n3                                   57143722.0   \n4                                   56718833.0   \n..                                         ...   \n223                                 16701636.0   \n224                                  8374310.0   \n225                                 63456405.0   \n226                                 62932483.0   \n227                                  8409969.0   \n\n     system.cpu.icache.overall_miss_rate::total  \\\n0                                      0.000921   \n1                                      0.002995   \n2                                      0.004184   \n3                                      0.001339   \n4                                      0.000934   \n..                                          ...   \n223                                    0.002781   \n224                                    0.004160   \n225                                    0.001385   \n226                                    0.001043   \n227                                    0.004291   \n\n     system.l2.overall_hits::total  system.l2.overall_misses::total  \\\n0                        1598501.0                         190187.0   \n1                         126207.0                          55759.0   \n2                         361824.0                          40719.0   \n3                         260700.0                         232037.0   \n4                         323490.0                         149778.0   \n..                             ...                              ...   \n223                       475153.0                          23730.0   \n224                       414965.0                          13207.0   \n225                      1541060.0                         146186.0   \n226                      1610646.0                          45079.0   \n227                       418743.0                          13378.0   \n\n     system.l2.overall_miss_latency::total  system.l2.overall_accesses::total  \\\n0                             2.249178e+10                          1788688.0   \n1                             6.424546e+09                           181966.0   \n2                             4.717175e+09                           402543.0   \n3                             2.586496e+10                           492737.0   \n4                             1.755890e+10                           473268.0   \n..                                     ...                                ...   \n223                           3.885679e+09                           498883.0   \n224                           1.422849e+09                           428172.0   \n225                           2.046940e+10                          1687246.0   \n226                           1.046385e+10                          1655725.0   \n227                           1.493219e+09                           432121.0   \n\n     system.l2.overall_miss_rate::total  \n0                              0.106328  \n1                              0.306425  \n2                              0.101154  \n3                              0.470915  \n4                              0.316476  \n..                                  ...  \n223                            0.047566  \n224                            0.030845  \n225                            0.086642  \n226                            0.027226  \n227                            0.030959  \n\n[228 rows x 30 columns]",
      "text/html": "<div>\n<style scoped>\n    .dataframe tbody tr th:only-of-type {\n        vertical-align: middle;\n    }\n\n    .dataframe tbody tr th {\n        vertical-align: top;\n    }\n\n    .dataframe thead th {\n        text-align: right;\n    }\n</style>\n<table border=\"1\" class=\"dataframe\">\n  <thead>\n    <tr style=\"text-align: right;\">\n      <th></th>\n      <th>model</th>\n      <th>layer</th>\n      <th>sim_seconds</th>\n      <th>sim_ticks</th>\n      <th>system.mem_ctrls.num_reads::total</th>\n      <th>system.mem_ctrls.num_writes::total</th>\n      <th>system.cpu.op_class_0::IntAlu</th>\n      <th>system.cpu.op_class_0::IntMult</th>\n      <th>system.cpu.op_class_0::IntDiv</th>\n      <th>system.cpu.op_class_0::MemRead</th>\n      <th>...</th>\n      <th>system.cpu.icache.overall_hits::total</th>\n      <th>system.cpu.icache.overall_misses::total</th>\n      <th>system.cpu.icache.overall_miss_latency::total</th>\n      <th>system.cpu.icache.overall_accesses::total</th>\n      <th>system.cpu.icache.overall_miss_rate::total</th>\n      <th>system.l2.overall_hits::total</th>\n      <th>system.l2.overall_misses::total</th>\n      <th>system.l2.overall_miss_latency::total</th>\n      <th>system.l2.overall_accesses::total</th>\n      <th>system.l2.overall_miss_rate::total</th>\n    </tr>\n  </thead>\n  <tbody>\n    <tr>\n      <th>0</th>\n      <td>Rearrange 16*16 Sparsity 90</td>\n      <td>MHA</td>\n      <td>0.747375</td>\n      <td>7.473749e+11</td>\n      <td>190184.0</td>\n      <td>126874.0</td>\n      <td>476479533.0</td>\n      <td>38861.0</td>\n      <td>4197828.0</td>\n      <td>116294958.0</td>\n      <td>...</td>\n      <td>209962202.0</td>\n      <td>193532.0</td>\n      <td>6.716274e+09</td>\n      <td>210155734.0</td>\n      <td>0.000921</td>\n      <td>1598501.0</td>\n      <td>190187.0</td>\n      <td>2.249178e+10</td>\n      <td>1788688.0</td>\n      <td>0.106328</td>\n    </tr>\n    <tr>\n      <th>1</th>\n      <td>Rearrange 16*16 Sparsity 90</td>\n      <td>Projection</td>\n      <td>0.058092</td>\n      <td>5.809175e+10</td>\n      <td>55755.0</td>\n      <td>27443.0</td>\n      <td>36711314.0</td>\n      <td>5468.0</td>\n      <td>573.0</td>\n      <td>8593760.0</td>\n      <td>...</td>\n      <td>14905101.0</td>\n      <td>44768.0</td>\n      <td>1.965082e+09</td>\n      <td>14949869.0</td>\n      <td>0.002995</td>\n      <td>126207.0</td>\n      <td>55759.0</td>\n      <td>6.424546e+09</td>\n      <td>181966.0</td>\n      <td>0.306425</td>\n    </tr>\n    <tr>\n      <th>2</th>\n      <td>Rearrange 16*16 Sparsity 90</td>\n      <td>Add/Norm0</td>\n      <td>0.039299</td>\n      <td>3.929856e+10</td>\n      <td>40715.0</td>\n      <td>21364.0</td>\n      <td>16871738.0</td>\n      <td>1087517.0</td>\n      <td>35320.0</td>\n      <td>4835978.0</td>\n      <td>...</td>\n      <td>8508929.0</td>\n      <td>35753.0</td>\n      <td>1.622628e+09</td>\n      <td>8544682.0</td>\n      <td>0.004184</td>\n      <td>361824.0</td>\n      <td>40719.0</td>\n      <td>4.717175e+09</td>\n      <td>402543.0</td>\n      <td>0.101154</td>\n    </tr>\n    <tr>\n      <th>3</th>\n      <td>Rearrange 16*16 Sparsity 90</td>\n      <td>FF0</td>\n      <td>0.218435</td>\n      <td>2.184350e+11</td>\n      <td>232034.0</td>\n      <td>175575.0</td>\n      <td>141061816.0</td>\n      <td>9879.0</td>\n      <td>1236.0</td>\n      <td>32773174.0</td>\n      <td>...</td>\n      <td>57067189.0</td>\n      <td>76533.0</td>\n      <td>2.882127e+09</td>\n      <td>57143722.0</td>\n      <td>0.001339</td>\n      <td>260700.0</td>\n      <td>232037.0</td>\n      <td>2.586496e+10</td>\n      <td>492737.0</td>\n      <td>0.470915</td>\n    </tr>\n    <tr>\n      <th>4</th>\n      <td>Rearrange 16*16 Sparsity 90</td>\n      <td>FF1</td>\n      <td>0.209697</td>\n      <td>2.096975e+11</td>\n      <td>149774.0</td>\n      <td>45510.0</td>\n      <td>140297339.0</td>\n      <td>7869.0</td>\n      <td>1217.0</td>\n      <td>32588724.0</td>\n      <td>...</td>\n      <td>56665847.0</td>\n      <td>52986.0</td>\n      <td>2.221566e+09</td>\n      <td>56718833.0</td>\n      <td>0.000934</td>\n      <td>323490.0</td>\n      <td>149778.0</td>\n      <td>1.755890e+10</td>\n      <td>473268.0</td>\n      <td>0.316476</td>\n    </tr>\n    <tr>\n      <th>...</th>\n      <td>...</td>\n      <td>...</td>\n      <td>...</td>\n      <td>...</td>\n      <td>...</td>\n      <td>...</td>\n      <td>...</td>\n      <td>...</td>\n      <td>...</td>\n      <td>...</td>\n      <td>...</td>\n      <td>...</td>\n      <td>...</td>\n      <td>...</td>\n      <td>...</td>\n      <td>...</td>\n      <td>...</td>\n      <td>...</td>\n      <td>...</td>\n      <td>...</td>\n      <td>...</td>\n    </tr>\n    <tr>\n      <th>223</th>\n      <td>O3 Prefetch load-skip 16*16 lBert 4kB_128kB Sp...</td>\n      <td>Projection</td>\n      <td>0.139032</td>\n      <td>1.390317e+11</td>\n      <td>86382.0</td>\n      <td>41151.0</td>\n      <td>70241534.0</td>\n      <td>6730.0</td>\n      <td>908.0</td>\n      <td>46191518.0</td>\n      <td>...</td>\n      <td>16655195.0</td>\n      <td>46441.0</td>\n      <td>1.489119e+09</td>\n      <td>16701636.0</td>\n      <td>0.002781</td>\n      <td>475153.0</td>\n      <td>23730.0</td>\n      <td>3.885679e+09</td>\n      <td>498883.0</td>\n      <td>0.047566</td>\n    </tr>\n    <tr>\n      <th>224</th>\n      <td>O3 Prefetch load-skip 16*16 lBert 4kB_128kB Sp...</td>\n      <td>Add/Norm0</td>\n      <td>0.036754</td>\n      <td>3.675362e+10</td>\n      <td>68424.0</td>\n      <td>38719.0</td>\n      <td>17883161.0</td>\n      <td>1087429.0</td>\n      <td>35298.0</td>\n      <td>5099873.0</td>\n      <td>...</td>\n      <td>8339471.0</td>\n      <td>34839.0</td>\n      <td>1.136463e+09</td>\n      <td>8374310.0</td>\n      <td>0.004160</td>\n      <td>414965.0</td>\n      <td>13207.0</td>\n      <td>1.422849e+09</td>\n      <td>428172.0</td>\n      <td>0.030845</td>\n    </tr>\n    <tr>\n      <th>225</th>\n      <td>O3 Prefetch load-skip 16*16 lBert 4kB_128kB Sp...</td>\n      <td>FF0</td>\n      <td>0.543032</td>\n      <td>5.430319e+11</td>\n      <td>1404572.0</td>\n      <td>1291896.0</td>\n      <td>274030310.0</td>\n      <td>15183.0</td>\n      <td>2638.0</td>\n      <td>183744958.0</td>\n      <td>...</td>\n      <td>63368495.0</td>\n      <td>87910.0</td>\n      <td>2.766721e+09</td>\n      <td>63456405.0</td>\n      <td>0.001385</td>\n      <td>1541060.0</td>\n      <td>146186.0</td>\n      <td>2.046940e+10</td>\n      <td>1687246.0</td>\n      <td>0.086642</td>\n    </tr>\n    <tr>\n      <th>226</th>\n      <td>O3 Prefetch load-skip 16*16 lBert 4kB_128kB Sp...</td>\n      <td>FF1</td>\n      <td>0.537508</td>\n      <td>5.375075e+11</td>\n      <td>188631.0</td>\n      <td>68309.0</td>\n      <td>273017112.0</td>\n      <td>12670.0</td>\n      <td>2602.0</td>\n      <td>183617995.0</td>\n      <td>...</td>\n      <td>62866815.0</td>\n      <td>65668.0</td>\n      <td>2.082940e+09</td>\n      <td>62932483.0</td>\n      <td>0.001043</td>\n      <td>1610646.0</td>\n      <td>45079.0</td>\n      <td>1.046385e+10</td>\n      <td>1655725.0</td>\n      <td>0.027226</td>\n    </tr>\n    <tr>\n      <th>227</th>\n      <td>O3 Prefetch load-skip 16*16 lBert 4kB_128kB Sp...</td>\n      <td>Add/Norm1</td>\n      <td>0.036893</td>\n      <td>3.689298e+10</td>\n      <td>69891.0</td>\n      <td>38528.0</td>\n      <td>17980799.0</td>\n      <td>1087408.0</td>\n      <td>35278.0</td>\n      <td>5127404.0</td>\n      <td>...</td>\n      <td>8373885.0</td>\n      <td>36084.0</td>\n      <td>1.180884e+09</td>\n      <td>8409969.0</td>\n      <td>0.004291</td>\n      <td>418743.0</td>\n      <td>13378.0</td>\n      <td>1.493219e+09</td>\n      <td>432121.0</td>\n      <td>0.030959</td>\n    </tr>\n  </tbody>\n</table>\n<p>228 rows × 30 columns</p>\n</div>"
     },
     "execution_count": 3,
     "metadata": {},
     "output_type": "execute_result"
    }
   ],
   "source": [
    "df = pd.DataFrame()\n",
    "\n",
    "for filename in filenames.keys():\n",
    "    exp_list = []\n",
    "    with open(filename, 'r') as kernel_file:\n",
    "        lines = kernel_file.readlines()\n",
    "        exp_index = 0\n",
    "        for line in lines:\n",
    "            if line.startswith('---------- Begin Simulation Statistics'):\n",
    "                experiment = {'model': filenames[filename][exp_index // len(layers)],\n",
    "                              'layer': layers[exp_index % len(layers)]}\n",
    "            else:\n",
    "                for k in feature_name:\n",
    "                    if line.startswith(k):\n",
    "                        l = line.split(k)[1]\n",
    "                        l = l.split()[0]\n",
    "                        experiment[k] = np.float64(l)\n",
    "            if line.startswith('---------- End Simulation Statistics'):\n",
    "                exp_list.append(experiment)\n",
    "                exp_index += 1\n",
    "\n",
    "                if exp_index >= len(layers) * len(filenames[filename]):\n",
    "                    break\n",
    "\n",
    "    df_kernel = pd.DataFrame(exp_list)\n",
    "    df = pd.concat([df, df_kernel], axis=0, ignore_index=True)\n",
    "\n",
    "df"
   ],
   "metadata": {
    "collapsed": false,
    "pycharm": {
     "name": "#%%\n"
    }
   }
  },
  {
   "cell_type": "code",
   "execution_count": 17,
   "outputs": [],
   "source": [
    "# df.to_csv('./output/load_skip_data.csv', sep=',')"
   ],
   "metadata": {
    "collapsed": false,
    "pycharm": {
     "name": "#%%\n"
    }
   }
  },
  {
   "cell_type": "code",
   "execution_count": 4,
   "outputs": [],
   "source": [
    "prunable_layers = [\"Query\", \"Key\", \"Value\", \"Projection\", \"FF0\", \"FF1\"]"
   ],
   "metadata": {
    "collapsed": false,
    "pycharm": {
     "name": "#%%\n"
    }
   }
  },
  {
   "cell_type": "code",
   "execution_count": 19,
   "outputs": [
    {
     "data": {
      "text/plain": "Series([], Name: sim_seconds, dtype: float64)"
     },
     "execution_count": 19,
     "metadata": {},
     "output_type": "execute_result"
    }
   ],
   "source": [
    "df_encoder_0 = df[df['model'] == \"Encoder sparsity 0\"].copy()\n",
    "df_encoder_0['prunable'] = df_encoder_0['layer']\\\n",
    "    .apply(lambda x: (x in prunable_layers) | (x[:-1] in prunable_layers))\n",
    "df_encoder_0.groupby('prunable')['sim_seconds'].sum()\n"
   ],
   "metadata": {
    "collapsed": false,
    "pycharm": {
     "name": "#%%\n"
    }
   }
  },
  {
   "cell_type": "code",
   "execution_count": 20,
   "outputs": [
    {
     "data": {
      "text/plain": "Series([], Name: sim_seconds, dtype: float64)"
     },
     "execution_count": 20,
     "metadata": {},
     "output_type": "execute_result"
    }
   ],
   "source": [
    "df_decoder_0 = df[df['model'] == \"Decoder sparsity 0\"].copy()\n",
    "df_decoder_0_extra = df_decoder_0[df_decoder_0['layer'].apply(lambda x: x[:-1] in [\"Query\", \"Key\", \"Value\", \"Transpose\", \"QKT\", \"Pre-Softmax\", \"Score\", \"Post-Softmax\"])]\n",
    "\n",
    "df_decoder_0 = pd.concat([df_decoder_0, df_decoder_0_extra], ignore_index=True)\n",
    "df_decoder_0['prunable'] = df_decoder_0['layer']\\\n",
    "    .apply(lambda x: (x in prunable_layers) | (x[:-1] in prunable_layers))\n",
    "df_decoder_0.groupby('prunable')['sim_seconds'].sum()"
   ],
   "metadata": {
    "collapsed": false,
    "pycharm": {
     "name": "#%%\n"
    }
   }
  },
  {
   "cell_type": "markdown",
   "source": [
    "# Memory rearranged"
   ],
   "metadata": {
    "collapsed": false,
    "pycharm": {
     "name": "#%% md\n"
    }
   }
  },
  {
   "cell_type": "markdown",
   "source": [],
   "metadata": {
    "collapsed": false,
    "pycharm": {
     "name": "#%% md\n"
    }
   }
  },
  {
   "cell_type": "code",
   "execution_count": 26,
   "outputs": [
    {
     "data": {
      "text/plain": "<Figure size 1152x1152 with 0 Axes>"
     },
     "metadata": {},
     "output_type": "display_data"
    },
    {
     "data": {
      "text/plain": "<Figure size 432x288 with 1 Axes>",
      "image/png": "[encoded data removed]"
     },
     "metadata": {
      "needs_background": "light"
     },
     "output_type": "display_data"
    }
   ],
   "source": [
    "gemm_MHA_layers = [\"Query\", \"Key\", \"Value\", \"QKT\", \"Score\"]\n",
    "gemm_layers = [\"{}{}\".format(l, i) for i in range(1,17) for l in gemm_MHA_layers ]\n",
    "gemm_layers += [\"Projection\", \"FF0\", \"FF1\"]\n",
    "\n",
    "non_gem_layers = [x for x in layers if x not in gemm_layers]\n",
    "\n",
    "df['is_gemm'] = df['layer'].apply(lambda x: x in gemm_layers)\n",
    "df_compare = df.groupby(['model'])[[ #'sim_seconds',\n",
    "                                  # 'system.cpu.dcache.overall_accesses::total',\n",
    "                                  'system.cpu.op_class_0::CusAluProcess',\n",
    "                                    'system.cpu.op_class_0::CusAluParamWrite',\n",
    "                                  'system.l2.overall_accesses::total',\n",
    "                                  'system.mem_ctrls.num_reads::total',\n",
    "                'system.mem_ctrls.num_writes::total',\n",
    "                                  ]].sum()\n",
    "\n",
    "# df_compare.reset_index().pivot(index='model', columns='is_gemm').plot.bar()\n",
    "plt.figure(figsize=(16,16))\n",
    "df_compare.transpose().plot.bar()\n",
    "# plt.tight_layout()\n",
    "plt.savefig('output/memory_rearranged_mem.png')"
   ],
   "metadata": {
    "collapsed": false,
    "pycharm": {
     "name": "#%%\n"
    }
   }
  },
  {
   "cell_type": "code",
   "execution_count": 25,
   "outputs": [],
   "source": [
    "df_compare = df.groupby(['model'])['sim_seconds'].sum()"
   ],
   "metadata": {
    "collapsed": false,
    "pycharm": {
     "name": "#%%\n"
    }
   }
  },
  {
   "cell_type": "code",
   "execution_count": 23,
   "outputs": [
    {
     "data": {
      "text/plain": "model\nRearranged 16*16     6.704072\nTiCSAT 16*16_256    10.361356\nTiCSAT 16*16_512    12.048685\nName: sim_seconds, dtype: float64"
     },
     "execution_count": 23,
     "metadata": {},
     "output_type": "execute_result"
    }
   ],
   "source": [
    "df_compare"
   ],
   "metadata": {
    "collapsed": false,
    "pycharm": {
     "name": "#%%\n"
    }
   }
  },
  {
   "cell_type": "markdown",
   "source": [
    "# Load-skip Sparsity"
   ],
   "metadata": {
    "collapsed": false,
    "pycharm": {
     "name": "#%% md\n"
    }
   }
  },
  {
   "cell_type": "code",
   "execution_count": null,
   "outputs": [],
   "source": [],
   "metadata": {
    "collapsed": false,
    "pycharm": {
     "name": "#%%\n"
    }
   }
  },
  {
   "cell_type": "code",
   "execution_count": 64,
   "outputs": [
    {
     "data": {
      "text/plain": "model\nRearrange 16*16 Sparsity 0      6.949713\nRearrange 16*16 Sparsity 10     6.797845\nRearrange 16*16 Sparsity 20     6.699286\nRearrange 16*16 Sparsity 30     6.655673\nRearrange 16*16 Sparsity 40     6.507226\nRearrange 16*16 Sparsity 50     6.380063\nRearrange 16*16 Sparsity 60     6.248997\nRearrange 16*16 Sparsity 70     6.088848\nRearrange 16*16 Sparsity 80     5.933693\nRearrange 16*16 Sparsity 90     5.773522\nTiCSAT 16*16 Sparsity 0        10.348878\nTiCSAT 16*16 Sparsity 10        9.882017\nTiCSAT 16*16 Sparsity 20        9.514620\nTiCSAT 16*16 Sparsity 30        9.155397\nTiCSAT 16*16 Sparsity 40        8.708290\nTiCSAT 16*16 Sparsity 50        8.280271\nTiCSAT 16*16 Sparsity 60        7.859124\nTiCSAT 16*16 Sparsity 70        7.363610\nTiCSAT 16*16 Sparsity 80        6.910815\nTiCSAT 16*16 Sparsity 90        6.441591\nName: sim_seconds, dtype: float64"
     },
     "execution_count": 64,
     "metadata": {},
     "output_type": "execute_result"
    }
   ],
   "source": [
    "df[df['layer'].apply(lambda x: x.startswith(''))].groupby('model')['sim_seconds'].sum()"
   ],
   "metadata": {
    "collapsed": false,
    "pycharm": {
     "name": "#%%\n"
    }
   }
  },
  {
   "cell_type": "markdown",
   "source": [
    "# Zero-free Sparsity"
   ],
   "metadata": {
    "collapsed": false,
    "pycharm": {
     "name": "#%% md\n"
    }
   }
  },
  {
   "cell_type": "code",
   "execution_count": 4,
   "outputs": [
    {
     "data": {
      "text/plain": "                         model       layer  sim_seconds     sim_ticks  \\\n0  Rearrange 16*16 Sparsity 90         MHA     0.747375  7.473749e+11   \n1  Rearrange 16*16 Sparsity 90  Projection     0.058092  5.809175e+10   \n2  Rearrange 16*16 Sparsity 90   Add/Norm0     0.039299  3.929856e+10   \n3  Rearrange 16*16 Sparsity 90         FF0     0.218435  2.184350e+11   \n4  Rearrange 16*16 Sparsity 90         FF1     0.209697  2.096975e+11   \n\n   system.mem_ctrls.num_reads::total  system.mem_ctrls.num_writes::total  \\\n0                           190184.0                            126874.0   \n1                            55755.0                             27443.0   \n2                            40715.0                             21364.0   \n3                           232034.0                            175575.0   \n4                           149774.0                             45510.0   \n\n   system.cpu.op_class_0::IntAlu  system.cpu.op_class_0::IntMult  \\\n0                    476479533.0                         38861.0   \n1                     36711314.0                          5468.0   \n2                     16871738.0                       1087517.0   \n3                    141061816.0                          9879.0   \n4                    140297339.0                          7869.0   \n\n   system.cpu.op_class_0::IntDiv  system.cpu.op_class_0::MemRead  ...  \\\n0                      4197828.0                     116294958.0  ...   \n1                          573.0                       8593760.0  ...   \n2                        35320.0                       4835978.0  ...   \n3                         1236.0                      32773174.0  ...   \n4                         1217.0                      32588724.0  ...   \n\n   system.cpu.icache.overall_misses::total  \\\n0                                 193532.0   \n1                                  44768.0   \n2                                  35753.0   \n3                                  76533.0   \n4                                  52986.0   \n\n   system.cpu.icache.overall_miss_latency::total  \\\n0                                   6.716274e+09   \n1                                   1.965082e+09   \n2                                   1.622628e+09   \n3                                   2.882127e+09   \n4                                   2.221566e+09   \n\n   system.cpu.icache.overall_accesses::total  \\\n0                                210155734.0   \n1                                 14949869.0   \n2                                  8544682.0   \n3                                 57143722.0   \n4                                 56718833.0   \n\n   system.cpu.icache.overall_miss_rate::total  system.l2.overall_hits::total  \\\n0                                    0.000921                      1598501.0   \n1                                    0.002995                       126207.0   \n2                                    0.004184                       361824.0   \n3                                    0.001339                       260700.0   \n4                                    0.000934                       323490.0   \n\n   system.l2.overall_misses::total  system.l2.overall_miss_latency::total  \\\n0                         190187.0                           2.249178e+10   \n1                          55759.0                           6.424546e+09   \n2                          40719.0                           4.717175e+09   \n3                         232037.0                           2.586496e+10   \n4                         149778.0                           1.755890e+10   \n\n   system.l2.overall_accesses::total  system.l2.overall_miss_rate::total  \\\n0                          1788688.0                            0.106328   \n1                           181966.0                            0.306425   \n2                           402543.0                            0.101154   \n3                           492737.0                            0.470915   \n4                           473268.0                            0.316476   \n\n   sparsity  \n0        90  \n1        90  \n2        90  \n3        90  \n4        90  \n\n[5 rows x 31 columns]",
      "text/html": "<div>\n<style scoped>\n    .dataframe tbody tr th:only-of-type {\n        vertical-align: middle;\n    }\n\n    .dataframe tbody tr th {\n        vertical-align: top;\n    }\n\n    .dataframe thead th {\n        text-align: right;\n    }\n</style>\n<table border=\"1\" class=\"dataframe\">\n  <thead>\n    <tr style=\"text-align: right;\">\n      <th></th>\n      <th>model</th>\n      <th>layer</th>\n      <th>sim_seconds</th>\n      <th>sim_ticks</th>\n      <th>system.mem_ctrls.num_reads::total</th>\n      <th>system.mem_ctrls.num_writes::total</th>\n      <th>system.cpu.op_class_0::IntAlu</th>\n      <th>system.cpu.op_class_0::IntMult</th>\n      <th>system.cpu.op_class_0::IntDiv</th>\n      <th>system.cpu.op_class_0::MemRead</th>\n      <th>...</th>\n      <th>system.cpu.icache.overall_misses::total</th>\n      <th>system.cpu.icache.overall_miss_latency::total</th>\n      <th>system.cpu.icache.overall_accesses::total</th>\n      <th>system.cpu.icache.overall_miss_rate::total</th>\n      <th>system.l2.overall_hits::total</th>\n      <th>system.l2.overall_misses::total</th>\n      <th>system.l2.overall_miss_latency::total</th>\n      <th>system.l2.overall_accesses::total</th>\n      <th>system.l2.overall_miss_rate::total</th>\n      <th>sparsity</th>\n    </tr>\n  </thead>\n  <tbody>\n    <tr>\n      <th>0</th>\n      <td>Rearrange 16*16 Sparsity 90</td>\n      <td>MHA</td>\n      <td>0.747375</td>\n      <td>7.473749e+11</td>\n      <td>190184.0</td>\n      <td>126874.0</td>\n      <td>476479533.0</td>\n      <td>38861.0</td>\n      <td>4197828.0</td>\n      <td>116294958.0</td>\n      <td>...</td>\n      <td>193532.0</td>\n      <td>6.716274e+09</td>\n      <td>210155734.0</td>\n      <td>0.000921</td>\n      <td>1598501.0</td>\n      <td>190187.0</td>\n      <td>2.249178e+10</td>\n      <td>1788688.0</td>\n      <td>0.106328</td>\n      <td>90</td>\n    </tr>\n    <tr>\n      <th>1</th>\n      <td>Rearrange 16*16 Sparsity 90</td>\n      <td>Projection</td>\n      <td>0.058092</td>\n      <td>5.809175e+10</td>\n      <td>55755.0</td>\n      <td>27443.0</td>\n      <td>36711314.0</td>\n      <td>5468.0</td>\n      <td>573.0</td>\n      <td>8593760.0</td>\n      <td>...</td>\n      <td>44768.0</td>\n      <td>1.965082e+09</td>\n      <td>14949869.0</td>\n      <td>0.002995</td>\n      <td>126207.0</td>\n      <td>55759.0</td>\n      <td>6.424546e+09</td>\n      <td>181966.0</td>\n      <td>0.306425</td>\n      <td>90</td>\n    </tr>\n    <tr>\n      <th>2</th>\n      <td>Rearrange 16*16 Sparsity 90</td>\n      <td>Add/Norm0</td>\n      <td>0.039299</td>\n      <td>3.929856e+10</td>\n      <td>40715.0</td>\n      <td>21364.0</td>\n      <td>16871738.0</td>\n      <td>1087517.0</td>\n      <td>35320.0</td>\n      <td>4835978.0</td>\n      <td>...</td>\n      <td>35753.0</td>\n      <td>1.622628e+09</td>\n      <td>8544682.0</td>\n      <td>0.004184</td>\n      <td>361824.0</td>\n      <td>40719.0</td>\n      <td>4.717175e+09</td>\n      <td>402543.0</td>\n      <td>0.101154</td>\n      <td>90</td>\n    </tr>\n    <tr>\n      <th>3</th>\n      <td>Rearrange 16*16 Sparsity 90</td>\n      <td>FF0</td>\n      <td>0.218435</td>\n      <td>2.184350e+11</td>\n      <td>232034.0</td>\n      <td>175575.0</td>\n      <td>141061816.0</td>\n      <td>9879.0</td>\n      <td>1236.0</td>\n      <td>32773174.0</td>\n      <td>...</td>\n      <td>76533.0</td>\n      <td>2.882127e+09</td>\n      <td>57143722.0</td>\n      <td>0.001339</td>\n      <td>260700.0</td>\n      <td>232037.0</td>\n      <td>2.586496e+10</td>\n      <td>492737.0</td>\n      <td>0.470915</td>\n      <td>90</td>\n    </tr>\n    <tr>\n      <th>4</th>\n      <td>Rearrange 16*16 Sparsity 90</td>\n      <td>FF1</td>\n      <td>0.209697</td>\n      <td>2.096975e+11</td>\n      <td>149774.0</td>\n      <td>45510.0</td>\n      <td>140297339.0</td>\n      <td>7869.0</td>\n      <td>1217.0</td>\n      <td>32588724.0</td>\n      <td>...</td>\n      <td>52986.0</td>\n      <td>2.221566e+09</td>\n      <td>56718833.0</td>\n      <td>0.000934</td>\n      <td>323490.0</td>\n      <td>149778.0</td>\n      <td>1.755890e+10</td>\n      <td>473268.0</td>\n      <td>0.316476</td>\n      <td>90</td>\n    </tr>\n  </tbody>\n</table>\n<p>5 rows × 31 columns</p>\n</div>"
     },
     "execution_count": 4,
     "metadata": {},
     "output_type": "execute_result"
    }
   ],
   "source": [
    "df['sparsity'] = df['model'].apply(lambda x: int(x.split(' ')[-1]))\n",
    "df.head()"
   ],
   "metadata": {
    "collapsed": false,
    "pycharm": {
     "name": "#%%\n"
    }
   }
  },
  {
   "cell_type": "code",
   "execution_count": 4,
   "outputs": [
    {
     "data": {
      "text/plain": "model\nLoad-skip 16*16 ViT 4kB_128kB Sparsity 40                  0.579612\nLoad-skip 16*16 ViT 4kB_128kB Sparsity 90                  0.213500\nO3 Load-skip 16*16 Sparsity 40                             2.328392\nO3 Load-skip 16*16 Sparsity 90                             0.846262\nO3 Load-skip 16*16 lBert 4kB_128kB Sparsity 40             2.741566\nO3 Load-skip 16*16 lBert 4kB_128kB Sparsity 90             1.032362\nO3 Prefetch Zero-free 16*16 lBert 4kB_128kB Sparsity 40    2.047061\nO3 Prefetch Zero-free 16*16 lBert 4kB_128kB Sparsity 90    0.731497\nO3 Prefetch load-skip 16*16 lBert 4kB_128kB Sparsity 40    2.055805\nO3 Prefetch load-skip 16*16 lBert 4kB_128kB Sparsity 90    0.761834\nO3 Zero-free 16*16 Sparsity 40                             2.298822\nO3 Zero-free 16*16 Sparsity 90                             0.801542\nO3 Zero-free 16*16 lBert 4kB_128kB Sparsity 40             2.729037\nO3 Zero-free 16*16 lBert 4kB_128kB Sparsity 90             0.989339\nRearrange 16*16 Sparsity 0                                 6.254669\nRearrange 16*16 Sparsity 10                                5.712859\nRearrange 16*16 Sparsity 20                                5.166207\nRearrange 16*16 Sparsity 30                                4.602433\nRearrange 16*16 Sparsity 40                                4.056336\nRearrange 16*16 Sparsity 50                                3.491527\nRearrange 16*16 Sparsity 60                                2.959746\nRearrange 16*16 Sparsity 70                                2.390253\nRearrange 16*16 Sparsity 80                                1.859953\nRearrange 16*16 Sparsity 90                                1.312524\nUpper Bound 16*16 ViT 4kB_128kB Sparsity 40                0.506765\nUpper Bound 16*16 ViT 4kB_128kB Sparsity 90                0.147388\nZero-free 16*16 Sparsity 0                                 6.218148\nZero-free 16*16 Sparsity 10                                5.672922\nZero-free 16*16 Sparsity 20                                5.122899\nZero-free 16*16 Sparsity 30                                4.556787\nZero-free 16*16 Sparsity 40                                4.008140\nZero-free 16*16 Sparsity 50                                3.439999\nZero-free 16*16 Sparsity 60                                2.904682\nZero-free 16*16 Sparsity 70                                2.333509\nZero-free 16*16 Sparsity 80                                1.798609\nZero-free 16*16 Sparsity 90                                1.250264\nZero-free 16*16 ViT 4kB_128kB Sparsity 40                  0.523672\nZero-free 16*16 ViT 4kB_128kB Sparsity 90                  0.150310\nName: sim_seconds, dtype: float64"
     },
     "execution_count": 4,
     "metadata": {},
     "output_type": "execute_result"
    }
   ],
   "source": [
    "df_sim_seconds = df[df['layer'].apply(lambda x: x.startswith(''))].groupby('model')['sim_seconds'].sum()\n",
    "df_sim_seconds"
   ],
   "metadata": {
    "collapsed": false,
    "pycharm": {
     "name": "#%%\n"
    }
   }
  },
  {
   "cell_type": "code",
   "execution_count": 8,
   "outputs": [
    {
     "data": {
      "text/plain": "model\nO3 Zero-free 16*16 Sparsity 40    2.298822\nO3 Zero-free 16*16 Sparsity 90    0.801542\nRearrange 16*16 Sparsity 0        6.254669\nRearrange 16*16 Sparsity 10       5.712859\nRearrange 16*16 Sparsity 20       5.166207\nRearrange 16*16 Sparsity 30       4.602433\nRearrange 16*16 Sparsity 40       4.056336\nRearrange 16*16 Sparsity 50       3.491527\nRearrange 16*16 Sparsity 60       2.959746\nRearrange 16*16 Sparsity 70       2.390253\nRearrange 16*16 Sparsity 80       1.859953\nRearrange 16*16 Sparsity 90       1.312524\nZero-free 16*16 Sparsity 0        6.218148\nZero-free 16*16 Sparsity 10       5.672922\nZero-free 16*16 Sparsity 20       5.122899\nZero-free 16*16 Sparsity 30       4.556787\nZero-free 16*16 Sparsity 40       4.008140\nZero-free 16*16 Sparsity 50       3.439999\nZero-free 16*16 Sparsity 60       2.904682\nZero-free 16*16 Sparsity 70       2.333509\nZero-free 16*16 Sparsity 80       1.798609\nZero-free 16*16 Sparsity 90       1.250264\nName: sim_seconds, dtype: float64"
     },
     "execution_count": 8,
     "metadata": {},
     "output_type": "execute_result"
    }
   ],
   "source": [
    "df[df['layer'].apply(lambda x: x.startswith(''))].groupby('model')['system.cpu.dcache.overall_accesses::total'].sum()"
   ],
   "metadata": {
    "collapsed": false,
    "pycharm": {
     "name": "#%%\n"
    }
   }
  },
  {
   "cell_type": "code",
   "execution_count": 8,
   "outputs": [
    {
     "data": {
      "text/plain": "<BarContainer object of 2 artists>"
     },
     "execution_count": 8,
     "metadata": {},
     "output_type": "execute_result"
    },
    {
     "data": {
      "text/plain": "<Figure size 432x288 with 1 Axes>",
      "image/png": "[encoded data removed]"
     },
     "metadata": {
      "needs_background": "light"
     },
     "output_type": "display_data"
    }
   ],
   "source": [
    "ratio = []\n",
    "for i in range(40, 100, 50):\n",
    "    load_skip = df_sim_seconds.loc['O3 Load-skip 16*16 Sparsity {}'.format(i)]\n",
    "    zero_free = df_sim_seconds.loc['O3 Zero-free 16*16 Sparsity {}'.format(i)]\n",
    "    ratio.append((load_skip - zero_free)/(load_skip))\n",
    "\n",
    "plt.bar(np.arange(40, 100, 50), height=ratio, width=7)"
   ],
   "metadata": {
    "collapsed": false,
    "pycharm": {
     "name": "#%%\n"
    }
   }
  },
  {
   "cell_type": "code",
   "execution_count": 5,
   "outputs": [
    {
     "data": {
      "text/plain": "                                                 model layer  sim_seconds  \\\n3                          Rearrange 16*16 Sparsity 90   FF0     0.218435   \n63                         Zero-free 16*16 Sparsity 90   FF0     0.197777   \n123                     O3 Zero-free 16*16 Sparsity 90   FF0     0.117967   \n135                     O3 Load-skip 16*16 Sparsity 90   FF0     0.139336   \n147          Load-skip 16*16 ViT 4kB_128kB Sparsity 90   FF0     0.058653   \n159     O3 Load-skip 16*16 lBert 4kB_128kB Sparsity 90   FF0     0.156644   \n171          Zero-free 16*16 ViT 4kB_128kB Sparsity 90   FF0     0.037569   \n183     O3 Zero-free 16*16 lBert 4kB_128kB Sparsity 90   FF0     0.140733   \n195        Upper Bound 16*16 ViT 4kB_128kB Sparsity 90   FF0     0.036763   \n207  O3 Prefetch Zero-free 16*16 lBert 4kB_128kB Sp...   FF0     0.100059   \n219  O3 Prefetch load-skip 16*16 lBert 4kB_128kB Sp...   FF0     0.110412   \n\n        sim_ticks  system.mem_ctrls.num_reads::total  \\\n3    2.184350e+11                           232034.0   \n63   1.977771e+11                           148950.0   \n123  1.179666e+11                           150645.0   \n135  1.393360e+11                           275714.0   \n147  5.865308e+10                           142941.0   \n159  1.566438e+11                           342809.0   \n171  3.756926e+10                            77600.0   \n183  1.407332e+11                           306544.0   \n195  3.676312e+10                            68106.0   \n207  1.000594e+11                           198698.0   \n219  1.104116e+11                           320498.0   \n\n     system.mem_ctrls.num_writes::total  system.cpu.op_class_0::IntAlu  \\\n3                              175575.0                    141061816.0   \n63                             151674.0                    125516365.0   \n123                            152656.0                     47660230.0   \n135                            230289.0                     63221264.0   \n147                             45369.0                     34328839.0   \n159                            249703.0                     63242880.0   \n171                             40962.0                     18814613.0   \n183                            257326.0                     47697215.0   \n195                             38765.0                     18934738.0   \n207                            156195.0                     47647410.0   \n219                            231092.0                     63183442.0   \n\n     system.cpu.op_class_0::IntMult  system.cpu.op_class_0::IntDiv  \\\n3                            9879.0                         1236.0   \n63                           9581.0                         1162.0   \n123                          8217.0                          822.0   \n135                          8656.0                          927.0   \n147                          5066.0                          580.0   \n159                          8963.0                          992.0   \n171                          4717.0                          508.0   \n183                          8764.0                          948.0   \n195                          4862.0                          526.0   \n207                          7969.0                          745.0   \n219                          8179.0                          787.0   \n\n     system.cpu.op_class_0::MemRead  ...  \\\n3                        32773174.0  ...   \n63                       31848681.0  ...   \n123                      31821616.0  ...   \n135                      32750604.0  ...   \n147                       4700219.0  ...   \n159                      32756473.0  ...   \n171                       3773293.0  ...   \n183                      31832003.0  ...   \n195                       3664231.0  ...   \n207                      31817913.0  ...   \n219                      32739308.0  ...   \n\n     system.cpu.icache.overall_hits::total  \\\n3                               57067189.0   \n63                              51811741.0   \n123                             12137543.0   \n135                             14724146.0   \n147                             11840835.0   \n159                             14424199.0   \n171                              7537754.0   \n183                             11841056.0   \n195                              7680606.0   \n207                             12114056.0   \n219                             14684757.0   \n\n     system.cpu.icache.overall_misses::total  \\\n3                                    76533.0   \n63                                   68801.0   \n123                                  64395.0   \n135                                  65061.0   \n147                                 132716.0   \n159                                 307840.0   \n171                                 129557.0   \n183                                 305734.0   \n195                                 130382.0   \n207                                  60445.0   \n219                                  62212.0   \n\n     system.cpu.icache.overall_miss_latency::total  \\\n3                                     2.882127e+09   \n63                                    2.665177e+09   \n123                                   2.577683e+09   \n135                                   2.485386e+09   \n147                                   5.831729e+09   \n159                                   1.244577e+10   \n171                                   5.504156e+09   \n183                                   1.256630e+10   \n195                                   5.535614e+09   \n207                                   1.895579e+09   \n219                                   1.889014e+09   \n\n     system.cpu.icache.overall_accesses::total  \\\n3                                   57143722.0   \n63                                  51880542.0   \n123                                 12201938.0   \n135                                 14789207.0   \n147                                 11973551.0   \n159                                 14732039.0   \n171                                  7667311.0   \n183                                 12146790.0   \n195                                  7810988.0   \n207                                 12174501.0   \n219                                 14746969.0   \n\n     system.cpu.icache.overall_miss_rate::total  \\\n3                                      0.001339   \n63                                     0.001326   \n123                                    0.005277   \n135                                    0.004399   \n147                                    0.011084   \n159                                    0.020896   \n171                                    0.016897   \n183                                    0.025170   \n195                                    0.016692   \n207                                    0.004965   \n219                                    0.004219   \n\n     system.l2.overall_hits::total  system.l2.overall_misses::total  \\\n3                         260700.0                         232037.0   \n63                        252492.0                         148954.0   \n123                       239673.0                         150650.0   \n135                       160015.0                         275717.0   \n147                       160705.0                         142945.0   \n159                       628664.0                         342813.0   \n171                       162958.0                          77603.0   \n183                       606747.0                         306547.0   \n195                       162799.0                          68109.0   \n207                       388959.0                          39655.0   \n219                       428052.0                          47422.0   \n\n     system.l2.overall_miss_latency::total  system.l2.overall_accesses::total  \\\n3                             2.586496e+10                           492737.0   \n63                            1.790863e+10                           401446.0   \n123                           1.772165e+10                           390323.0   \n135                           2.949167e+10                           435732.0   \n147                           1.583002e+10                           303650.0   \n159                           3.848904e+10                           971477.0   \n171                           9.123062e+09                           240561.0   \n183                           3.465664e+10                           913294.0   \n195                           7.809072e+09                           230908.0   \n207                           5.779363e+09                           428614.0   \n219                           5.859316e+09                           475474.0   \n\n     system.l2.overall_miss_rate::total  \n3                              0.470915  \n63                             0.371044  \n123                            0.385962  \n135                            0.632767  \n147                            0.470756  \n159                            0.352878  \n171                            0.322592  \n183                            0.335650  \n195                            0.294962  \n207                            0.092519  \n219                            0.099736  \n\n[11 rows x 30 columns]",
      "text/html": "<div>\n<style scoped>\n    .dataframe tbody tr th:only-of-type {\n        vertical-align: middle;\n    }\n\n    .dataframe tbody tr th {\n        vertical-align: top;\n    }\n\n    .dataframe thead th {\n        text-align: right;\n    }\n</style>\n<table border=\"1\" class=\"dataframe\">\n  <thead>\n    <tr style=\"text-align: right;\">\n      <th></th>\n      <th>model</th>\n      <th>layer</th>\n      <th>sim_seconds</th>\n      <th>sim_ticks</th>\n      <th>system.mem_ctrls.num_reads::total</th>\n      <th>system.mem_ctrls.num_writes::total</th>\n      <th>system.cpu.op_class_0::IntAlu</th>\n      <th>system.cpu.op_class_0::IntMult</th>\n      <th>system.cpu.op_class_0::IntDiv</th>\n      <th>system.cpu.op_class_0::MemRead</th>\n      <th>...</th>\n      <th>system.cpu.icache.overall_hits::total</th>\n      <th>system.cpu.icache.overall_misses::total</th>\n      <th>system.cpu.icache.overall_miss_latency::total</th>\n      <th>system.cpu.icache.overall_accesses::total</th>\n      <th>system.cpu.icache.overall_miss_rate::total</th>\n      <th>system.l2.overall_hits::total</th>\n      <th>system.l2.overall_misses::total</th>\n      <th>system.l2.overall_miss_latency::total</th>\n      <th>system.l2.overall_accesses::total</th>\n      <th>system.l2.overall_miss_rate::total</th>\n    </tr>\n  </thead>\n  <tbody>\n    <tr>\n      <th>3</th>\n      <td>Rearrange 16*16 Sparsity 90</td>\n      <td>FF0</td>\n      <td>0.218435</td>\n      <td>2.184350e+11</td>\n      <td>232034.0</td>\n      <td>175575.0</td>\n      <td>141061816.0</td>\n      <td>9879.0</td>\n      <td>1236.0</td>\n      <td>32773174.0</td>\n      <td>...</td>\n      <td>57067189.0</td>\n      <td>76533.0</td>\n      <td>2.882127e+09</td>\n      <td>57143722.0</td>\n      <td>0.001339</td>\n      <td>260700.0</td>\n      <td>232037.0</td>\n      <td>2.586496e+10</td>\n      <td>492737.0</td>\n      <td>0.470915</td>\n    </tr>\n    <tr>\n      <th>63</th>\n      <td>Zero-free 16*16 Sparsity 90</td>\n      <td>FF0</td>\n      <td>0.197777</td>\n      <td>1.977771e+11</td>\n      <td>148950.0</td>\n      <td>151674.0</td>\n      <td>125516365.0</td>\n      <td>9581.0</td>\n      <td>1162.0</td>\n      <td>31848681.0</td>\n      <td>...</td>\n      <td>51811741.0</td>\n      <td>68801.0</td>\n      <td>2.665177e+09</td>\n      <td>51880542.0</td>\n      <td>0.001326</td>\n      <td>252492.0</td>\n      <td>148954.0</td>\n      <td>1.790863e+10</td>\n      <td>401446.0</td>\n      <td>0.371044</td>\n    </tr>\n    <tr>\n      <th>123</th>\n      <td>O3 Zero-free 16*16 Sparsity 90</td>\n      <td>FF0</td>\n      <td>0.117967</td>\n      <td>1.179666e+11</td>\n      <td>150645.0</td>\n      <td>152656.0</td>\n      <td>47660230.0</td>\n      <td>8217.0</td>\n      <td>822.0</td>\n      <td>31821616.0</td>\n      <td>...</td>\n      <td>12137543.0</td>\n      <td>64395.0</td>\n      <td>2.577683e+09</td>\n      <td>12201938.0</td>\n      <td>0.005277</td>\n      <td>239673.0</td>\n      <td>150650.0</td>\n      <td>1.772165e+10</td>\n      <td>390323.0</td>\n      <td>0.385962</td>\n    </tr>\n    <tr>\n      <th>135</th>\n      <td>O3 Load-skip 16*16 Sparsity 90</td>\n      <td>FF0</td>\n      <td>0.139336</td>\n      <td>1.393360e+11</td>\n      <td>275714.0</td>\n      <td>230289.0</td>\n      <td>63221264.0</td>\n      <td>8656.0</td>\n      <td>927.0</td>\n      <td>32750604.0</td>\n      <td>...</td>\n      <td>14724146.0</td>\n      <td>65061.0</td>\n      <td>2.485386e+09</td>\n      <td>14789207.0</td>\n      <td>0.004399</td>\n      <td>160015.0</td>\n      <td>275717.0</td>\n      <td>2.949167e+10</td>\n      <td>435732.0</td>\n      <td>0.632767</td>\n    </tr>\n    <tr>\n      <th>147</th>\n      <td>Load-skip 16*16 ViT 4kB_128kB Sparsity 90</td>\n      <td>FF0</td>\n      <td>0.058653</td>\n      <td>5.865308e+10</td>\n      <td>142941.0</td>\n      <td>45369.0</td>\n      <td>34328839.0</td>\n      <td>5066.0</td>\n      <td>580.0</td>\n      <td>4700219.0</td>\n      <td>...</td>\n      <td>11840835.0</td>\n      <td>132716.0</td>\n      <td>5.831729e+09</td>\n      <td>11973551.0</td>\n      <td>0.011084</td>\n      <td>160705.0</td>\n      <td>142945.0</td>\n      <td>1.583002e+10</td>\n      <td>303650.0</td>\n      <td>0.470756</td>\n    </tr>\n    <tr>\n      <th>159</th>\n      <td>O3 Load-skip 16*16 lBert 4kB_128kB Sparsity 90</td>\n      <td>FF0</td>\n      <td>0.156644</td>\n      <td>1.566438e+11</td>\n      <td>342809.0</td>\n      <td>249703.0</td>\n      <td>63242880.0</td>\n      <td>8963.0</td>\n      <td>992.0</td>\n      <td>32756473.0</td>\n      <td>...</td>\n      <td>14424199.0</td>\n      <td>307840.0</td>\n      <td>1.244577e+10</td>\n      <td>14732039.0</td>\n      <td>0.020896</td>\n      <td>628664.0</td>\n      <td>342813.0</td>\n      <td>3.848904e+10</td>\n      <td>971477.0</td>\n      <td>0.352878</td>\n    </tr>\n    <tr>\n      <th>171</th>\n      <td>Zero-free 16*16 ViT 4kB_128kB Sparsity 90</td>\n      <td>FF0</td>\n      <td>0.037569</td>\n      <td>3.756926e+10</td>\n      <td>77600.0</td>\n      <td>40962.0</td>\n      <td>18814613.0</td>\n      <td>4717.0</td>\n      <td>508.0</td>\n      <td>3773293.0</td>\n      <td>...</td>\n      <td>7537754.0</td>\n      <td>129557.0</td>\n      <td>5.504156e+09</td>\n      <td>7667311.0</td>\n      <td>0.016897</td>\n      <td>162958.0</td>\n      <td>77603.0</td>\n      <td>9.123062e+09</td>\n      <td>240561.0</td>\n      <td>0.322592</td>\n    </tr>\n    <tr>\n      <th>183</th>\n      <td>O3 Zero-free 16*16 lBert 4kB_128kB Sparsity 90</td>\n      <td>FF0</td>\n      <td>0.140733</td>\n      <td>1.407332e+11</td>\n      <td>306544.0</td>\n      <td>257326.0</td>\n      <td>47697215.0</td>\n      <td>8764.0</td>\n      <td>948.0</td>\n      <td>31832003.0</td>\n      <td>...</td>\n      <td>11841056.0</td>\n      <td>305734.0</td>\n      <td>1.256630e+10</td>\n      <td>12146790.0</td>\n      <td>0.025170</td>\n      <td>606747.0</td>\n      <td>306547.0</td>\n      <td>3.465664e+10</td>\n      <td>913294.0</td>\n      <td>0.335650</td>\n    </tr>\n    <tr>\n      <th>195</th>\n      <td>Upper Bound 16*16 ViT 4kB_128kB Sparsity 90</td>\n      <td>FF0</td>\n      <td>0.036763</td>\n      <td>3.676312e+10</td>\n      <td>68106.0</td>\n      <td>38765.0</td>\n      <td>18934738.0</td>\n      <td>4862.0</td>\n      <td>526.0</td>\n      <td>3664231.0</td>\n      <td>...</td>\n      <td>7680606.0</td>\n      <td>130382.0</td>\n      <td>5.535614e+09</td>\n      <td>7810988.0</td>\n      <td>0.016692</td>\n      <td>162799.0</td>\n      <td>68109.0</td>\n      <td>7.809072e+09</td>\n      <td>230908.0</td>\n      <td>0.294962</td>\n    </tr>\n    <tr>\n      <th>207</th>\n      <td>O3 Prefetch Zero-free 16*16 lBert 4kB_128kB Sp...</td>\n      <td>FF0</td>\n      <td>0.100059</td>\n      <td>1.000594e+11</td>\n      <td>198698.0</td>\n      <td>156195.0</td>\n      <td>47647410.0</td>\n      <td>7969.0</td>\n      <td>745.0</td>\n      <td>31817913.0</td>\n      <td>...</td>\n      <td>12114056.0</td>\n      <td>60445.0</td>\n      <td>1.895579e+09</td>\n      <td>12174501.0</td>\n      <td>0.004965</td>\n      <td>388959.0</td>\n      <td>39655.0</td>\n      <td>5.779363e+09</td>\n      <td>428614.0</td>\n      <td>0.092519</td>\n    </tr>\n    <tr>\n      <th>219</th>\n      <td>O3 Prefetch load-skip 16*16 lBert 4kB_128kB Sp...</td>\n      <td>FF0</td>\n      <td>0.110412</td>\n      <td>1.104116e+11</td>\n      <td>320498.0</td>\n      <td>231092.0</td>\n      <td>63183442.0</td>\n      <td>8179.0</td>\n      <td>787.0</td>\n      <td>32739308.0</td>\n      <td>...</td>\n      <td>14684757.0</td>\n      <td>62212.0</td>\n      <td>1.889014e+09</td>\n      <td>14746969.0</td>\n      <td>0.004219</td>\n      <td>428052.0</td>\n      <td>47422.0</td>\n      <td>5.859316e+09</td>\n      <td>475474.0</td>\n      <td>0.099736</td>\n    </tr>\n  </tbody>\n</table>\n<p>11 rows × 30 columns</p>\n</div>"
     },
     "execution_count": 5,
     "metadata": {},
     "output_type": "execute_result"
    }
   ],
   "source": [
    "df[(df['model'].apply(lambda  x : x.endswith('90')) ) & (df['layer'] == 'FF0')]"
   ],
   "metadata": {
    "collapsed": false,
    "pycharm": {
     "name": "#%%\n"
    }
   }
  }
 ],
 "metadata": {
  "kernelspec": {
   "display_name": "Python 3",
   "language": "python",
   "name": "python3"
  },
  "language_info": {
   "codemirror_mode": {
    "name": "ipython",
    "version": 2
   },
   "file_extension": ".py",
   "mimetype": "text/x-python",
   "name": "python",
   "nbconvert_exporter": "python",
   "pygments_lexer": "ipython2",
   "version": "2.7.6"
  }
 },
 "nbformat": 4,
 "nbformat_minor": 0
}